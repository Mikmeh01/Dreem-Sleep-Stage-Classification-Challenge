{
 "cells": [
  {
   "cell_type": "markdown",
   "metadata": {},
   "source": [
    "# Dreem Sleep Stage Classification Challenge\n"
   ]
  },
  {
   "cell_type": "code",
   "execution_count": 172,
   "metadata": {},
   "outputs": [],
   "source": [
    "import pandas as pd\n",
    "import h5py\n",
    "import time\n",
    "import numpy as np\n",
    "import matplotlib.pyplot as plt\n",
    "%matplotlib inline\n",
    "import tqdm\n",
    "import random\n",
    "import pickle\n",
    "\n",
    "# Import functions made to create features\n",
    "import get_features \n",
    "\n",
    "from tsfresh.feature_extraction.feature_calculators import *\n",
    "from statsmodels.tsa.stattools import acf\n",
    "\n",
    "# Features selection\n",
    "from sklearn.feature_selection import RFE\n",
    "\n",
    "# Classification models\n",
    "from sklearn.ensemble import RandomForestClassifier, GradientBoostingClassifier, ExtraTreesClassifier\n",
    "from sklearn.linear_model import LogisticRegression, SGDClassifier, ElasticNet\n",
    "from sklearn.svm import SVC,LinearSVC\n",
    "import xgboost as xgb\n",
    "\n",
    "# Features and data selection\n",
    "from sklearn.model_selection import GridSearchCV, cross_val_score\n",
    "from sklearn.model_selection import train_test_split\n",
    "from sklearn.feature_selection import SelectKBest\n",
    "from sklearn.feature_selection import chi2\n",
    "\n",
    "# Score calculation\n",
    "from sklearn.metrics import f1_score"
   ]
  },
  {
   "cell_type": "markdown",
   "metadata": {},
   "source": [
    "## Reading data"
   ]
  },
  {
   "cell_type": "code",
   "execution_count": 2,
   "metadata": {},
   "outputs": [
    {
     "name": "stdout",
     "output_type": "stream",
     "text": [
      "Sleeping labels: {0: 'Awake', 1: 'N1 - light sleep 1', 2: 'N2 - light sleep 2', 3: 'N3 - Deep sleep', 4: 'REM - paradoxical sleep'}\n"
     ]
    }
   ],
   "source": [
    "#  dictionary label: sleep stage\n",
    "sleeping_labels = {0: \"Awake\",\n",
    "                   1: \"N1 - light sleep 1\",\n",
    "                   2: \"N2 - light sleep 2\",\n",
    "                   3: \"N3 - Deep sleep\",\n",
    "                   4: \"REM - paradoxical sleep\"\n",
    "                   }\n",
    "print(\"Sleeping labels:\", sleeping_labels)"
   ]
  },
  {
   "cell_type": "code",
   "execution_count": 21,
   "metadata": {},
   "outputs": [
    {
     "name": "stdout",
     "output_type": "stream",
     "text": [
      "Components train: ['accelerometer_x', 'accelerometer_y', 'accelerometer_z', 'eeg_1', 'eeg_2', 'eeg_3', 'eeg_4', 'eeg_5', 'eeg_6', 'eeg_7', 'pulse_oximeter_infrared']\n",
      "- The TRAIN dataset contains 38289 signals, each one of 11 components \n"
     ]
    }
   ],
   "source": [
    "# Reading X_train file\n",
    "file_train = h5py.File('train.h5', 'r')\n",
    "components_train = list(file_train.keys())\n",
    "print(\"Components train:\", components_train)\n",
    "no_components_train = len(components_train)\n",
    "no_signals_train = len(file_train['accelerometer_x'])\n",
    "print(\"- The TRAIN dataset contains {} signals, each one of {} components \"\n",
    "      .format(no_signals_train, no_components_train))"
   ]
  },
  {
   "cell_type": "code",
   "execution_count": 252,
   "metadata": {},
   "outputs": [
    {
     "data": {
      "text/plain": [
       "(38289, 1)"
      ]
     },
     "execution_count": 252,
     "metadata": {},
     "output_type": "execute_result"
    }
   ],
   "source": [
    "# Reading Y_train file\n",
    "Y_train = pd.read_csv(\"train_y.csv\")\n",
    "Y_train = Y_train.set_index(\"id\")\n",
    "Y_train.shape"
   ]
  },
  {
   "cell_type": "code",
   "execution_count": 20,
   "metadata": {},
   "outputs": [
    {
     "data": {
      "image/png": "[encoded data removed]",
      "text/plain": [
       "<matplotlib.figure.Figure at 0x197954dedd8>"
      ]
     },
     "metadata": {},
     "output_type": "display_data"
    }
   ],
   "source": [
    "# Distribution\n",
    "train_labels, counter_train = np.unique(Y_train, return_counts=True)\n",
    "labels_names = np.array([sleeping_labels[label] for label in train_labels])\n",
    "colors = ['yellowgreen', 'gold', 'lightskyblue', 'lightcoral', \"mediumorchid\"]\n",
    "explode = (0.03, 0.03, 0.03, 0.03, 0.03)\n",
    "plt.pie(counter_train, labels=labels_names, colors=colors, explode=explode,\n",
    "        autopct='%1.1f%%', startangle=90)   # shadow=True\n",
    "\n",
    "plt.axis('equal')\n",
    "plt.savefig('lables_pie.png')\n",
    "plt.show()"
   ]
  },
  {
   "cell_type": "markdown",
   "metadata": {},
   "source": [
    "> We can observe that the training data provided is out of balance: class 1 is under reprenseted whereas class 2 is over represented\n",
    "<br> \n",
    "Later, we will try to rebalance the training data."
   ]
  },
  {
   "cell_type": "code",
   "execution_count": 67,
   "metadata": {},
   "outputs": [
    {
     "name": "stdout",
     "output_type": "stream",
     "text": [
      "- The TEST dataset contains 37439 signals, each one of 11 components \n"
     ]
    }
   ],
   "source": [
    "# Reading X_test file\n",
    "file_test = h5py.File('test.h5', 'r')\n",
    "components_test = list(file_test.keys())\n",
    "no_components_test = len(components_test)\n",
    "no_signals_test = len(file_test['accelerometer_x'])\n",
    "print(\"- The TEST dataset contains {} signals, each one of {} components \"\n",
    "      .format(no_signals_test, no_components_test))"
   ]
  },
  {
   "cell_type": "markdown",
   "metadata": {},
   "source": [
    "## First study over 1000 rows"
   ]
  },
  {
   "cell_type": "markdown",
   "metadata": {},
   "source": [
    "Since we have a big amount of data, we will first randomly choose 1000 rows and make a first study of it (generate features then apply some models on it) before runing our script over the hole data set."
   ]
  },
  {
   "cell_type": "code",
   "execution_count": 8,
   "metadata": {},
   "outputs": [],
   "source": [
    "# Pick randomly 'n_sample' rows to work on \n",
    "n_sample = 1000\n",
    "sample_random_integers = random.sample(range(0, no_signals_train), n_sample)"
   ]
  },
  {
   "cell_type": "code",
   "execution_count": 9,
   "metadata": {},
   "outputs": [
    {
     "name": "stderr",
     "output_type": "stream",
     "text": [
      "1000it [18:04,  1.09s/it]\n"
     ]
    },
    {
     "data": {
      "text/html": [
       "<div>\n",
       "<style scoped>\n",
       "    .dataframe tbody tr th:only-of-type {\n",
       "        vertical-align: middle;\n",
       "    }\n",
       "\n",
       "    .dataframe tbody tr th {\n",
       "        vertical-align: top;\n",
       "    }\n",
       "\n",
       "    .dataframe thead th {\n",
       "        text-align: right;\n",
       "    }\n",
       "</style>\n",
       "<table border=\"1\" class=\"dataframe\">\n",
       "  <thead>\n",
       "    <tr style=\"text-align: right;\">\n",
       "      <th></th>\n",
       "      <th>accelerometer_x</th>\n",
       "      <th>accelerometer_y</th>\n",
       "      <th>accelerometer_z</th>\n",
       "      <th>eeg_1</th>\n",
       "      <th>eeg_2</th>\n",
       "      <th>eeg_3</th>\n",
       "      <th>eeg_4</th>\n",
       "      <th>eeg_5</th>\n",
       "      <th>eeg_6</th>\n",
       "      <th>eeg_7</th>\n",
       "      <th>pulse_oximeter_infrared</th>\n",
       "      <th>y</th>\n",
       "    </tr>\n",
       "  </thead>\n",
       "  <tbody>\n",
       "    <tr>\n",
       "      <th>0</th>\n",
       "      <td>[-0.001010961925116044, -0.0008709274783699189...</td>\n",
       "      <td>[-0.0008303592753357014, 0.0003955117721179383...</td>\n",
       "      <td>[-0.0006081525802563714, 0.0003193188473665764...</td>\n",
       "      <td>[1.7460901105778248, 6.6333117278106215, 5.564...</td>\n",
       "      <td>[9.758054552922658, 11.861015585305609, 0.9978...</td>\n",
       "      <td>[-8.011964437840362, -5.227703882808612, 4.566...</td>\n",
       "      <td>[-12.556294776065442, 1.407722349094911, 16.61...</td>\n",
       "      <td>[-13.383307408229825, 1.3141616160588683, 14.6...</td>\n",
       "      <td>[-14.301662904174918, -5.226460691884313, 11.0...</td>\n",
       "      <td>[-5.3715469502133715, 6.54173491498517, 10.110...</td>\n",
       "      <td>[292.51296614157036, 264.54612813517457, 235.6...</td>\n",
       "      <td>2</td>\n",
       "    </tr>\n",
       "    <tr>\n",
       "      <th>1</th>\n",
       "      <td>[-0.0011150877576990553, -0.001059626278819813...</td>\n",
       "      <td>[-0.0014658992202229992, -0.001157979078203808...</td>\n",
       "      <td>[-0.001129233034376509, -0.001264582570805195,...</td>\n",
       "      <td>[-8.4200356619192, -11.866860923536706, -16.92...</td>\n",
       "      <td>[-10.08104323325756, -14.932827823047546, -13....</td>\n",
       "      <td>[1.6610075341945105, 3.0659668336670904, -3.68...</td>\n",
       "      <td>[-4.376824875487728, -4.5088517635413154, -4.6...</td>\n",
       "      <td>[16.422060735048035, 11.20649986108765, 6.7516...</td>\n",
       "      <td>[4.044627262771428, 7.358120242281075, 12.3017...</td>\n",
       "      <td>[14.761022189133655, 8.141266499435005, 10.438...</td>\n",
       "      <td>[-67.00096081895754, -98.69828239688647, -69.4...</td>\n",
       "      <td>2</td>\n",
       "    </tr>\n",
       "    <tr>\n",
       "      <th>2</th>\n",
       "      <td>[-0.0003740783131077341, 0.0001206443304986307...</td>\n",
       "      <td>[0.0005982594537170538, 0.0002436822051765656,...</td>\n",
       "      <td>[-0.00020898031436500375, 3.595423439517476e-0...</td>\n",
       "      <td>[4.159514433489477, -3.0568964719499263, 3.796...</td>\n",
       "      <td>[-10.551832592425427, -21.11874693727927, -9.0...</td>\n",
       "      <td>[14.711380573104066, 18.061837491104825, 12.89...</td>\n",
       "      <td>[-1.3265187977954156, -13.764690030023075, -13...</td>\n",
       "      <td>[-10.058509534924156, -22.67145316710821, -21....</td>\n",
       "      <td>[-5.486141778053479, -10.707734512968273, -17....</td>\n",
       "      <td>[-24.770003768487527, -40.73313447642147, -34....</td>\n",
       "      <td>[-112.17657332145609, -303.9342951665166, -394...</td>\n",
       "      <td>0</td>\n",
       "    </tr>\n",
       "    <tr>\n",
       "      <th>3</th>\n",
       "      <td>[-0.00031387972022806077, -0.00059001357086413...</td>\n",
       "      <td>[0.00021067129237473115, 0.0001925768770065785...</td>\n",
       "      <td>[-0.0007789081999944325, -0.000564703759256879...</td>\n",
       "      <td>[-2.740960633806935, -4.818322129044191, -8.19...</td>\n",
       "      <td>[3.852719565806183, 5.408333641793888, 11.0475...</td>\n",
       "      <td>[-6.593862992153845, -10.226738224049768, -19....</td>\n",
       "      <td>[8.481296014468171, -24.375038448756186, -50.2...</td>\n",
       "      <td>[13.127683125799877, 1.7468579191438494, -21.4...</td>\n",
       "      <td>[11.221866034450613, -19.555153241509288, -42....</td>\n",
       "      <td>[19.722308193286153, 11.972923835184702, -2.19...</td>\n",
       "      <td>[-103.34836360218469, -90.83823229931298, -82....</td>\n",
       "      <td>1</td>\n",
       "    </tr>\n",
       "    <tr>\n",
       "      <th>4</th>\n",
       "      <td>[-0.0012175743947619722, -0.00222171866902912,...</td>\n",
       "      <td>[-0.0015322259638904656, -0.001172735153814442...</td>\n",
       "      <td>[-0.001803128406751231, -0.002646400354915589,...</td>\n",
       "      <td>[-6.089357099463086, 0.8079440810780625, 3.023...</td>\n",
       "      <td>[27.002846251052347, 24.89148368493636, 30.533...</td>\n",
       "      <td>[-33.0922033420205, -24.08353964957405, -27.50...</td>\n",
       "      <td>[-44.0497318147618, -49.42305765387209, -31.34...</td>\n",
       "      <td>[-25.35061104628403, -7.394833630269204, -24.1...</td>\n",
       "      <td>[-37.960898832461226, -50.23162025082138, -34....</td>\n",
       "      <td>[7.741368664862421, 16.688595793168133, 3.3393...</td>\n",
       "      <td>[-35.49021180975251, -47.34878553356977, -37.4...</td>\n",
       "      <td>4</td>\n",
       "    </tr>\n",
       "  </tbody>\n",
       "</table>\n",
       "</div>"
      ],
      "text/plain": [
       "                                     accelerometer_x  \\\n",
       "0  [-0.001010961925116044, -0.0008709274783699189...   \n",
       "1  [-0.0011150877576990553, -0.001059626278819813...   \n",
       "2  [-0.0003740783131077341, 0.0001206443304986307...   \n",
       "3  [-0.00031387972022806077, -0.00059001357086413...   \n",
       "4  [-0.0012175743947619722, -0.00222171866902912,...   \n",
       "\n",
       "                                     accelerometer_y  \\\n",
       "0  [-0.0008303592753357014, 0.0003955117721179383...   \n",
       "1  [-0.0014658992202229992, -0.001157979078203808...   \n",
       "2  [0.0005982594537170538, 0.0002436822051765656,...   \n",
       "3  [0.00021067129237473115, 0.0001925768770065785...   \n",
       "4  [-0.0015322259638904656, -0.001172735153814442...   \n",
       "\n",
       "                                     accelerometer_z  \\\n",
       "0  [-0.0006081525802563714, 0.0003193188473665764...   \n",
       "1  [-0.001129233034376509, -0.001264582570805195,...   \n",
       "2  [-0.00020898031436500375, 3.595423439517476e-0...   \n",
       "3  [-0.0007789081999944325, -0.000564703759256879...   \n",
       "4  [-0.001803128406751231, -0.002646400354915589,...   \n",
       "\n",
       "                                               eeg_1  \\\n",
       "0  [1.7460901105778248, 6.6333117278106215, 5.564...   \n",
       "1  [-8.4200356619192, -11.866860923536706, -16.92...   \n",
       "2  [4.159514433489477, -3.0568964719499263, 3.796...   \n",
       "3  [-2.740960633806935, -4.818322129044191, -8.19...   \n",
       "4  [-6.089357099463086, 0.8079440810780625, 3.023...   \n",
       "\n",
       "                                               eeg_2  \\\n",
       "0  [9.758054552922658, 11.861015585305609, 0.9978...   \n",
       "1  [-10.08104323325756, -14.932827823047546, -13....   \n",
       "2  [-10.551832592425427, -21.11874693727927, -9.0...   \n",
       "3  [3.852719565806183, 5.408333641793888, 11.0475...   \n",
       "4  [27.002846251052347, 24.89148368493636, 30.533...   \n",
       "\n",
       "                                               eeg_3  \\\n",
       "0  [-8.011964437840362, -5.227703882808612, 4.566...   \n",
       "1  [1.6610075341945105, 3.0659668336670904, -3.68...   \n",
       "2  [14.711380573104066, 18.061837491104825, 12.89...   \n",
       "3  [-6.593862992153845, -10.226738224049768, -19....   \n",
       "4  [-33.0922033420205, -24.08353964957405, -27.50...   \n",
       "\n",
       "                                               eeg_4  \\\n",
       "0  [-12.556294776065442, 1.407722349094911, 16.61...   \n",
       "1  [-4.376824875487728, -4.5088517635413154, -4.6...   \n",
       "2  [-1.3265187977954156, -13.764690030023075, -13...   \n",
       "3  [8.481296014468171, -24.375038448756186, -50.2...   \n",
       "4  [-44.0497318147618, -49.42305765387209, -31.34...   \n",
       "\n",
       "                                               eeg_5  \\\n",
       "0  [-13.383307408229825, 1.3141616160588683, 14.6...   \n",
       "1  [16.422060735048035, 11.20649986108765, 6.7516...   \n",
       "2  [-10.058509534924156, -22.67145316710821, -21....   \n",
       "3  [13.127683125799877, 1.7468579191438494, -21.4...   \n",
       "4  [-25.35061104628403, -7.394833630269204, -24.1...   \n",
       "\n",
       "                                               eeg_6  \\\n",
       "0  [-14.301662904174918, -5.226460691884313, 11.0...   \n",
       "1  [4.044627262771428, 7.358120242281075, 12.3017...   \n",
       "2  [-5.486141778053479, -10.707734512968273, -17....   \n",
       "3  [11.221866034450613, -19.555153241509288, -42....   \n",
       "4  [-37.960898832461226, -50.23162025082138, -34....   \n",
       "\n",
       "                                               eeg_7  \\\n",
       "0  [-5.3715469502133715, 6.54173491498517, 10.110...   \n",
       "1  [14.761022189133655, 8.141266499435005, 10.438...   \n",
       "2  [-24.770003768487527, -40.73313447642147, -34....   \n",
       "3  [19.722308193286153, 11.972923835184702, -2.19...   \n",
       "4  [7.741368664862421, 16.688595793168133, 3.3393...   \n",
       "\n",
       "                             pulse_oximeter_infrared  y  \n",
       "0  [292.51296614157036, 264.54612813517457, 235.6...  2  \n",
       "1  [-67.00096081895754, -98.69828239688647, -69.4...  2  \n",
       "2  [-112.17657332145609, -303.9342951665166, -394...  0  \n",
       "3  [-103.34836360218469, -90.83823229931298, -82....  1  \n",
       "4  [-35.49021180975251, -47.34878553356977, -37.4...  4  "
      ]
     },
     "execution_count": 9,
     "metadata": {},
     "output_type": "execute_result"
    }
   ],
   "source": [
    "# New dataset of 'n_sample' rows\n",
    "data_frame_train = pd.DataFrame(columns=components_train + ['y'])\n",
    "for i, row in tqdm.tqdm(enumerate(sample_random_integers)):\n",
    "    row_to_add = []\n",
    "    for acc in components_train:\n",
    "        row_to_add.append(file_train[acc][row])\n",
    "    row_to_add.append(y_train[\"sleep_stage\"][row])\n",
    "    data_frame_train.loc[i] = row_to_add\n",
    "\n",
    "data_frame_train.head() "
   ]
  },
  {
   "cell_type": "code",
   "execution_count": 10,
   "metadata": {},
   "outputs": [
    {
     "data": {
      "image/png": "[encoded data removed]",
      "text/plain": [
       "<Figure size 432x288 with 1 Axes>"
      ]
     },
     "metadata": {},
     "output_type": "display_data"
    }
   ],
   "source": [
    "# Distribution of the sample\n",
    "train_labels, counter_train = np.unique(data_frame_train['y'], return_counts=True)\n",
    "labels_names = np.array([sleeping_labels[label] for label in train_labels])\n",
    "colors = ['yellowgreen', 'gold', 'lightskyblue', 'lightcoral', \"mediumorchid\"]\n",
    "explode = (0.03, 0.03, 0.03, 0.03, 0.03)\n",
    "plt.pie(counter_train, labels=labels_names, colors=colors, explode=explode,\n",
    "        autopct='%1.1f%%', startangle=90)   # shadow=True\n",
    "\n",
    "plt.axis('equal')\n",
    "plt.savefig('lables_pie.png')\n",
    "plt.show()"
   ]
  },
  {
   "cell_type": "markdown",
   "metadata": {},
   "source": [
    "We notice that we have here a similar distribution of classes"
   ]
  },
  {
   "cell_type": "code",
   "execution_count": 11,
   "metadata": {},
   "outputs": [
    {
     "data": {
      "text/html": [
       "<div>\n",
       "<style scoped>\n",
       "    .dataframe tbody tr th:only-of-type {\n",
       "        vertical-align: middle;\n",
       "    }\n",
       "\n",
       "    .dataframe tbody tr th {\n",
       "        vertical-align: top;\n",
       "    }\n",
       "\n",
       "    .dataframe thead th {\n",
       "        text-align: right;\n",
       "    }\n",
       "</style>\n",
       "<table border=\"1\" class=\"dataframe\">\n",
       "  <thead>\n",
       "    <tr style=\"text-align: right;\">\n",
       "      <th></th>\n",
       "      <th>accelerometer_x</th>\n",
       "      <th>accelerometer_y</th>\n",
       "      <th>accelerometer_z</th>\n",
       "      <th>eeg_1</th>\n",
       "      <th>eeg_2</th>\n",
       "      <th>eeg_3</th>\n",
       "      <th>eeg_4</th>\n",
       "      <th>eeg_5</th>\n",
       "      <th>eeg_6</th>\n",
       "      <th>eeg_7</th>\n",
       "      <th>pulse_oximeter_infrared</th>\n",
       "      <th>y</th>\n",
       "      <th>random_choice</th>\n",
       "    </tr>\n",
       "  </thead>\n",
       "  <tbody>\n",
       "    <tr>\n",
       "      <th>0</th>\n",
       "      <td>[-0.001010961925116044, -0.0008709274783699189...</td>\n",
       "      <td>[-0.0008303592753357014, 0.0003955117721179383...</td>\n",
       "      <td>[-0.0006081525802563714, 0.0003193188473665764...</td>\n",
       "      <td>[1.7460901105778248, 6.6333117278106215, 5.564...</td>\n",
       "      <td>[9.758054552922658, 11.861015585305609, 0.9978...</td>\n",
       "      <td>[-8.011964437840362, -5.227703882808612, 4.566...</td>\n",
       "      <td>[-12.556294776065442, 1.407722349094911, 16.61...</td>\n",
       "      <td>[-13.383307408229825, 1.3141616160588683, 14.6...</td>\n",
       "      <td>[-14.301662904174918, -5.226460691884313, 11.0...</td>\n",
       "      <td>[-5.3715469502133715, 6.54173491498517, 10.110...</td>\n",
       "      <td>[292.51296614157036, 264.54612813517457, 235.6...</td>\n",
       "      <td>2</td>\n",
       "      <td>899</td>\n",
       "    </tr>\n",
       "    <tr>\n",
       "      <th>1</th>\n",
       "      <td>[-0.0011150877576990553, -0.001059626278819813...</td>\n",
       "      <td>[-0.0014658992202229992, -0.001157979078203808...</td>\n",
       "      <td>[-0.001129233034376509, -0.001264582570805195,...</td>\n",
       "      <td>[-8.4200356619192, -11.866860923536706, -16.92...</td>\n",
       "      <td>[-10.08104323325756, -14.932827823047546, -13....</td>\n",
       "      <td>[1.6610075341945105, 3.0659668336670904, -3.68...</td>\n",
       "      <td>[-4.376824875487728, -4.5088517635413154, -4.6...</td>\n",
       "      <td>[16.422060735048035, 11.20649986108765, 6.7516...</td>\n",
       "      <td>[4.044627262771428, 7.358120242281075, 12.3017...</td>\n",
       "      <td>[14.761022189133655, 8.141266499435005, 10.438...</td>\n",
       "      <td>[-67.00096081895754, -98.69828239688647, -69.4...</td>\n",
       "      <td>2</td>\n",
       "      <td>32720</td>\n",
       "    </tr>\n",
       "    <tr>\n",
       "      <th>2</th>\n",
       "      <td>[-0.0003740783131077341, 0.0001206443304986307...</td>\n",
       "      <td>[0.0005982594537170538, 0.0002436822051765656,...</td>\n",
       "      <td>[-0.00020898031436500375, 3.595423439517476e-0...</td>\n",
       "      <td>[4.159514433489477, -3.0568964719499263, 3.796...</td>\n",
       "      <td>[-10.551832592425427, -21.11874693727927, -9.0...</td>\n",
       "      <td>[14.711380573104066, 18.061837491104825, 12.89...</td>\n",
       "      <td>[-1.3265187977954156, -13.764690030023075, -13...</td>\n",
       "      <td>[-10.058509534924156, -22.67145316710821, -21....</td>\n",
       "      <td>[-5.486141778053479, -10.707734512968273, -17....</td>\n",
       "      <td>[-24.770003768487527, -40.73313447642147, -34....</td>\n",
       "      <td>[-112.17657332145609, -303.9342951665166, -394...</td>\n",
       "      <td>0</td>\n",
       "      <td>4993</td>\n",
       "    </tr>\n",
       "    <tr>\n",
       "      <th>3</th>\n",
       "      <td>[-0.00031387972022806077, -0.00059001357086413...</td>\n",
       "      <td>[0.00021067129237473115, 0.0001925768770065785...</td>\n",
       "      <td>[-0.0007789081999944325, -0.000564703759256879...</td>\n",
       "      <td>[-2.740960633806935, -4.818322129044191, -8.19...</td>\n",
       "      <td>[3.852719565806183, 5.408333641793888, 11.0475...</td>\n",
       "      <td>[-6.593862992153845, -10.226738224049768, -19....</td>\n",
       "      <td>[8.481296014468171, -24.375038448756186, -50.2...</td>\n",
       "      <td>[13.127683125799877, 1.7468579191438494, -21.4...</td>\n",
       "      <td>[11.221866034450613, -19.555153241509288, -42....</td>\n",
       "      <td>[19.722308193286153, 11.972923835184702, -2.19...</td>\n",
       "      <td>[-103.34836360218469, -90.83823229931298, -82....</td>\n",
       "      <td>1</td>\n",
       "      <td>22023</td>\n",
       "    </tr>\n",
       "    <tr>\n",
       "      <th>4</th>\n",
       "      <td>[-0.0012175743947619722, -0.00222171866902912,...</td>\n",
       "      <td>[-0.0015322259638904656, -0.001172735153814442...</td>\n",
       "      <td>[-0.001803128406751231, -0.002646400354915589,...</td>\n",
       "      <td>[-6.089357099463086, 0.8079440810780625, 3.023...</td>\n",
       "      <td>[27.002846251052347, 24.89148368493636, 30.533...</td>\n",
       "      <td>[-33.0922033420205, -24.08353964957405, -27.50...</td>\n",
       "      <td>[-44.0497318147618, -49.42305765387209, -31.34...</td>\n",
       "      <td>[-25.35061104628403, -7.394833630269204, -24.1...</td>\n",
       "      <td>[-37.960898832461226, -50.23162025082138, -34....</td>\n",
       "      <td>[7.741368664862421, 16.688595793168133, 3.3393...</td>\n",
       "      <td>[-35.49021180975251, -47.34878553356977, -37.4...</td>\n",
       "      <td>4</td>\n",
       "      <td>11994</td>\n",
       "    </tr>\n",
       "  </tbody>\n",
       "</table>\n",
       "</div>"
      ],
      "text/plain": [
       "                                     accelerometer_x  \\\n",
       "0  [-0.001010961925116044, -0.0008709274783699189...   \n",
       "1  [-0.0011150877576990553, -0.001059626278819813...   \n",
       "2  [-0.0003740783131077341, 0.0001206443304986307...   \n",
       "3  [-0.00031387972022806077, -0.00059001357086413...   \n",
       "4  [-0.0012175743947619722, -0.00222171866902912,...   \n",
       "\n",
       "                                     accelerometer_y  \\\n",
       "0  [-0.0008303592753357014, 0.0003955117721179383...   \n",
       "1  [-0.0014658992202229992, -0.001157979078203808...   \n",
       "2  [0.0005982594537170538, 0.0002436822051765656,...   \n",
       "3  [0.00021067129237473115, 0.0001925768770065785...   \n",
       "4  [-0.0015322259638904656, -0.001172735153814442...   \n",
       "\n",
       "                                     accelerometer_z  \\\n",
       "0  [-0.0006081525802563714, 0.0003193188473665764...   \n",
       "1  [-0.001129233034376509, -0.001264582570805195,...   \n",
       "2  [-0.00020898031436500375, 3.595423439517476e-0...   \n",
       "3  [-0.0007789081999944325, -0.000564703759256879...   \n",
       "4  [-0.001803128406751231, -0.002646400354915589,...   \n",
       "\n",
       "                                               eeg_1  \\\n",
       "0  [1.7460901105778248, 6.6333117278106215, 5.564...   \n",
       "1  [-8.4200356619192, -11.866860923536706, -16.92...   \n",
       "2  [4.159514433489477, -3.0568964719499263, 3.796...   \n",
       "3  [-2.740960633806935, -4.818322129044191, -8.19...   \n",
       "4  [-6.089357099463086, 0.8079440810780625, 3.023...   \n",
       "\n",
       "                                               eeg_2  \\\n",
       "0  [9.758054552922658, 11.861015585305609, 0.9978...   \n",
       "1  [-10.08104323325756, -14.932827823047546, -13....   \n",
       "2  [-10.551832592425427, -21.11874693727927, -9.0...   \n",
       "3  [3.852719565806183, 5.408333641793888, 11.0475...   \n",
       "4  [27.002846251052347, 24.89148368493636, 30.533...   \n",
       "\n",
       "                                               eeg_3  \\\n",
       "0  [-8.011964437840362, -5.227703882808612, 4.566...   \n",
       "1  [1.6610075341945105, 3.0659668336670904, -3.68...   \n",
       "2  [14.711380573104066, 18.061837491104825, 12.89...   \n",
       "3  [-6.593862992153845, -10.226738224049768, -19....   \n",
       "4  [-33.0922033420205, -24.08353964957405, -27.50...   \n",
       "\n",
       "                                               eeg_4  \\\n",
       "0  [-12.556294776065442, 1.407722349094911, 16.61...   \n",
       "1  [-4.376824875487728, -4.5088517635413154, -4.6...   \n",
       "2  [-1.3265187977954156, -13.764690030023075, -13...   \n",
       "3  [8.481296014468171, -24.375038448756186, -50.2...   \n",
       "4  [-44.0497318147618, -49.42305765387209, -31.34...   \n",
       "\n",
       "                                               eeg_5  \\\n",
       "0  [-13.383307408229825, 1.3141616160588683, 14.6...   \n",
       "1  [16.422060735048035, 11.20649986108765, 6.7516...   \n",
       "2  [-10.058509534924156, -22.67145316710821, -21....   \n",
       "3  [13.127683125799877, 1.7468579191438494, -21.4...   \n",
       "4  [-25.35061104628403, -7.394833630269204, -24.1...   \n",
       "\n",
       "                                               eeg_6  \\\n",
       "0  [-14.301662904174918, -5.226460691884313, 11.0...   \n",
       "1  [4.044627262771428, 7.358120242281075, 12.3017...   \n",
       "2  [-5.486141778053479, -10.707734512968273, -17....   \n",
       "3  [11.221866034450613, -19.555153241509288, -42....   \n",
       "4  [-37.960898832461226, -50.23162025082138, -34....   \n",
       "\n",
       "                                               eeg_7  \\\n",
       "0  [-5.3715469502133715, 6.54173491498517, 10.110...   \n",
       "1  [14.761022189133655, 8.141266499435005, 10.438...   \n",
       "2  [-24.770003768487527, -40.73313447642147, -34....   \n",
       "3  [19.722308193286153, 11.972923835184702, -2.19...   \n",
       "4  [7.741368664862421, 16.688595793168133, 3.3393...   \n",
       "\n",
       "                             pulse_oximeter_infrared  y  random_choice  \n",
       "0  [292.51296614157036, 264.54612813517457, 235.6...  2            899  \n",
       "1  [-67.00096081895754, -98.69828239688647, -69.4...  2          32720  \n",
       "2  [-112.17657332145609, -303.9342951665166, -394...  0           4993  \n",
       "3  [-103.34836360218469, -90.83823229931298, -82....  1          22023  \n",
       "4  [-35.49021180975251, -47.34878553356977, -37.4...  4          11994  "
      ]
     },
     "execution_count": 11,
     "metadata": {},
     "output_type": "execute_result"
    }
   ],
   "source": [
    "# Add a last column with original index\n",
    "data_frame_train['random_choice'] = sample_random_integers\n",
    "data_frame_train.head() "
   ]
  },
  {
   "cell_type": "code",
   "execution_count": 47,
   "metadata": {},
   "outputs": [],
   "source": [
    "# Saving row data\n",
    "\n",
    "def binary_save(file, path, file_name):\n",
    "    \"\"\"Save in binary the Tenders\"\"\"\n",
    "    with open(path + '\\\\' + file_name, 'wb') as fichier:\n",
    "        mon_pickler = pickle.Pickler(fichier)\n",
    "        mon_pickler.dump(file)\n",
    "\n",
    "binary_save(data_frame_train, r\"C:\\Users\\Driss Debbagh\\Desktop\\Cours 3A\\Machine Learning\\Kaggle\\kaggle_holidays\", \"thousand_rows\")"
   ]
  },
  {
   "cell_type": "code",
   "execution_count": 150,
   "metadata": {},
   "outputs": [],
   "source": [
    "# Reading raw data\n",
    "\n",
    "def binary_load(path, file_name):\n",
    "    \"\"\"Allows to load pickles\"\"\"\n",
    "    with open(path + '\\\\' + file_name, 'rb') as fichier:\n",
    "        mon_depickler = pickle.Unpickler(fichier)\n",
    "        a_memoriser = mon_depickler.load()\n",
    "    return a_memoriser\n",
    "\n",
    "#thousand_rows_data = binary_load(\"Data\", \"thousand_rows\")"
   ]
  },
  {
   "cell_type": "markdown",
   "metadata": {},
   "source": [
    "### Generating training features"
   ]
  },
  {
   "cell_type": "code",
   "execution_count": null,
   "metadata": {},
   "outputs": [],
   "source": [
    "#Create driss features\n",
    "get_features.features_data(thousand_rows_data, list_sensors)\n",
    "\n",
    "#Create Mike features\n",
    "get_features.gene_features(thousand_rows_data)"
   ]
  },
  {
   "cell_type": "code",
   "execution_count": 17,
   "metadata": {
    "collapsed": true
   },
   "outputs": [
    {
     "data": {
      "text/html": [
       "<div>\n",
       "<style scoped>\n",
       "    .dataframe tbody tr th:only-of-type {\n",
       "        vertical-align: middle;\n",
       "    }\n",
       "\n",
       "    .dataframe tbody tr th {\n",
       "        vertical-align: top;\n",
       "    }\n",
       "\n",
       "    .dataframe thead th {\n",
       "        text-align: right;\n",
       "    }\n",
       "</style>\n",
       "<table border=\"1\" class=\"dataframe\">\n",
       "  <thead>\n",
       "    <tr style=\"text-align: right;\">\n",
       "      <th></th>\n",
       "      <th>Unnamed: 0</th>\n",
       "      <th>ID</th>\n",
       "      <th>max_fft_x_1_accelerometer_x</th>\n",
       "      <th>max_fft_x_2_accelerometer_x</th>\n",
       "      <th>max_fft_x_3_accelerometer_x</th>\n",
       "      <th>max_fft_x_4_accelerometer_x</th>\n",
       "      <th>max_fft_x_5_accelerometer_x</th>\n",
       "      <th>max_fft_y_1_accelerometer_x</th>\n",
       "      <th>max_fft_y_2_accelerometer_x</th>\n",
       "      <th>max_fft_y_3_accelerometer_x</th>\n",
       "      <th>...</th>\n",
       "      <th>Indice_max_autocorr accelerometer_y</th>\n",
       "      <th>Indice_max_autocorr accelerometer_z</th>\n",
       "      <th>Indice_max_autocorr eeg_1</th>\n",
       "      <th>Indice_max_autocorr eeg_2</th>\n",
       "      <th>Indice_max_autocorr eeg_3</th>\n",
       "      <th>Indice_max_autocorr eeg_4</th>\n",
       "      <th>Indice_max_autocorr eeg_5</th>\n",
       "      <th>Indice_max_autocorr eeg_6</th>\n",
       "      <th>Indice_max_autocorr eeg_7</th>\n",
       "      <th>Indice_max_autocorr pulse_oximeter_infrared</th>\n",
       "    </tr>\n",
       "  </thead>\n",
       "  <tbody>\n",
       "    <tr>\n",
       "      <th>0</th>\n",
       "      <td>0</td>\n",
       "      <td>0</td>\n",
       "      <td>0.134228</td>\n",
       "      <td>0.268456</td>\n",
       "      <td>0.402685</td>\n",
       "      <td>0.469799</td>\n",
       "      <td>0.604027</td>\n",
       "      <td>0.000156</td>\n",
       "      <td>0.000346</td>\n",
       "      <td>0.000087</td>\n",
       "      <td>...</td>\n",
       "      <td>0</td>\n",
       "      <td>0</td>\n",
       "      <td>0</td>\n",
       "      <td>0</td>\n",
       "      <td>0</td>\n",
       "      <td>0</td>\n",
       "      <td>0</td>\n",
       "      <td>0</td>\n",
       "      <td>0</td>\n",
       "      <td>0</td>\n",
       "    </tr>\n",
       "    <tr>\n",
       "      <th>1</th>\n",
       "      <td>1</td>\n",
       "      <td>1</td>\n",
       "      <td>0.067114</td>\n",
       "      <td>0.167785</td>\n",
       "      <td>0.268456</td>\n",
       "      <td>0.335570</td>\n",
       "      <td>0.402685</td>\n",
       "      <td>0.000682</td>\n",
       "      <td>0.001093</td>\n",
       "      <td>0.001474</td>\n",
       "      <td>...</td>\n",
       "      <td>1</td>\n",
       "      <td>1</td>\n",
       "      <td>0</td>\n",
       "      <td>0</td>\n",
       "      <td>0</td>\n",
       "      <td>0</td>\n",
       "      <td>0</td>\n",
       "      <td>0</td>\n",
       "      <td>0</td>\n",
       "      <td>0</td>\n",
       "    </tr>\n",
       "    <tr>\n",
       "      <th>2</th>\n",
       "      <td>2</td>\n",
       "      <td>2</td>\n",
       "      <td>0.100671</td>\n",
       "      <td>0.167785</td>\n",
       "      <td>0.234899</td>\n",
       "      <td>0.302013</td>\n",
       "      <td>0.402685</td>\n",
       "      <td>0.000312</td>\n",
       "      <td>0.000242</td>\n",
       "      <td>0.000215</td>\n",
       "      <td>...</td>\n",
       "      <td>0</td>\n",
       "      <td>0</td>\n",
       "      <td>0</td>\n",
       "      <td>0</td>\n",
       "      <td>0</td>\n",
       "      <td>0</td>\n",
       "      <td>0</td>\n",
       "      <td>0</td>\n",
       "      <td>0</td>\n",
       "      <td>0</td>\n",
       "    </tr>\n",
       "    <tr>\n",
       "      <th>3</th>\n",
       "      <td>3</td>\n",
       "      <td>3</td>\n",
       "      <td>0.067114</td>\n",
       "      <td>0.167785</td>\n",
       "      <td>0.402685</td>\n",
       "      <td>0.671141</td>\n",
       "      <td>1.006711</td>\n",
       "      <td>0.009545</td>\n",
       "      <td>0.018290</td>\n",
       "      <td>0.007689</td>\n",
       "      <td>...</td>\n",
       "      <td>0</td>\n",
       "      <td>0</td>\n",
       "      <td>0</td>\n",
       "      <td>0</td>\n",
       "      <td>0</td>\n",
       "      <td>0</td>\n",
       "      <td>0</td>\n",
       "      <td>0</td>\n",
       "      <td>0</td>\n",
       "      <td>0</td>\n",
       "    </tr>\n",
       "    <tr>\n",
       "      <th>4</th>\n",
       "      <td>4</td>\n",
       "      <td>4</td>\n",
       "      <td>0.134228</td>\n",
       "      <td>0.201342</td>\n",
       "      <td>0.335570</td>\n",
       "      <td>0.436242</td>\n",
       "      <td>0.536913</td>\n",
       "      <td>0.000082</td>\n",
       "      <td>0.000094</td>\n",
       "      <td>0.000062</td>\n",
       "      <td>...</td>\n",
       "      <td>0</td>\n",
       "      <td>0</td>\n",
       "      <td>0</td>\n",
       "      <td>0</td>\n",
       "      <td>0</td>\n",
       "      <td>0</td>\n",
       "      <td>0</td>\n",
       "      <td>0</td>\n",
       "      <td>0</td>\n",
       "      <td>0</td>\n",
       "    </tr>\n",
       "  </tbody>\n",
       "</table>\n",
       "<p>5 rows × 454 columns</p>\n",
       "</div>"
      ],
      "text/plain": [
       "   Unnamed: 0  ID  max_fft_x_1_accelerometer_x  max_fft_x_2_accelerometer_x  \\\n",
       "0           0   0                     0.134228                     0.268456   \n",
       "1           1   1                     0.067114                     0.167785   \n",
       "2           2   2                     0.100671                     0.167785   \n",
       "3           3   3                     0.067114                     0.167785   \n",
       "4           4   4                     0.134228                     0.201342   \n",
       "\n",
       "   max_fft_x_3_accelerometer_x  max_fft_x_4_accelerometer_x  \\\n",
       "0                     0.402685                     0.469799   \n",
       "1                     0.268456                     0.335570   \n",
       "2                     0.234899                     0.302013   \n",
       "3                     0.402685                     0.671141   \n",
       "4                     0.335570                     0.436242   \n",
       "\n",
       "   max_fft_x_5_accelerometer_x  max_fft_y_1_accelerometer_x  \\\n",
       "0                     0.604027                     0.000156   \n",
       "1                     0.402685                     0.000682   \n",
       "2                     0.402685                     0.000312   \n",
       "3                     1.006711                     0.009545   \n",
       "4                     0.536913                     0.000082   \n",
       "\n",
       "   max_fft_y_2_accelerometer_x  max_fft_y_3_accelerometer_x  \\\n",
       "0                     0.000346                     0.000087   \n",
       "1                     0.001093                     0.001474   \n",
       "2                     0.000242                     0.000215   \n",
       "3                     0.018290                     0.007689   \n",
       "4                     0.000094                     0.000062   \n",
       "\n",
       "                      ...                       \\\n",
       "0                     ...                        \n",
       "1                     ...                        \n",
       "2                     ...                        \n",
       "3                     ...                        \n",
       "4                     ...                        \n",
       "\n",
       "   Indice_max_autocorr accelerometer_y  Indice_max_autocorr accelerometer_z  \\\n",
       "0                                    0                                    0   \n",
       "1                                    1                                    1   \n",
       "2                                    0                                    0   \n",
       "3                                    0                                    0   \n",
       "4                                    0                                    0   \n",
       "\n",
       "   Indice_max_autocorr eeg_1  Indice_max_autocorr eeg_2  \\\n",
       "0                          0                          0   \n",
       "1                          0                          0   \n",
       "2                          0                          0   \n",
       "3                          0                          0   \n",
       "4                          0                          0   \n",
       "\n",
       "   Indice_max_autocorr eeg_3  Indice_max_autocorr eeg_4  \\\n",
       "0                          0                          0   \n",
       "1                          0                          0   \n",
       "2                          0                          0   \n",
       "3                          0                          0   \n",
       "4                          0                          0   \n",
       "\n",
       "   Indice_max_autocorr eeg_5  Indice_max_autocorr eeg_6  \\\n",
       "0                          0                          0   \n",
       "1                          0                          0   \n",
       "2                          0                          0   \n",
       "3                          0                          0   \n",
       "4                          0                          0   \n",
       "\n",
       "   Indice_max_autocorr eeg_7  Indice_max_autocorr pulse_oximeter_infrared  \n",
       "0                          0                                            0  \n",
       "1                          0                                            0  \n",
       "2                          0                                            0  \n",
       "3                          0                                            0  \n",
       "4                          0                                            0  \n",
       "\n",
       "[5 rows x 454 columns]"
      ]
     },
     "execution_count": 17,
     "metadata": {},
     "output_type": "execute_result"
    }
   ],
   "source": [
    "# Merging features\n",
    "mike_feat = pd.read_excel('thousand/mike_train_thousand.xlsx')\n",
    "driss_feat = pd.read_csv('thousand/driss_train_thousand.csv', sep=',')\n",
    "\n",
    "thousand_features = pd.concat([driss_feat,mike_feat.drop('y',axis=1)], axis=1, join_axes=[mike_feat.index])\n"
   ]
  },
  {
   "cell_type": "markdown",
   "metadata": {},
   "source": [
    "### Qualitative analysis of the importance of data"
   ]
  },
  {
   "cell_type": "code",
   "execution_count": 18,
   "metadata": {},
   "outputs": [
    {
     "data": {
      "image/png": "[encoded data removed]",
      "text/plain": [
       "<matplotlib.figure.Figure at 0x1b5b4f78f28>"
      ]
     },
     "metadata": {
      "needs_background": "light"
     },
     "output_type": "display_data"
    }
   ],
   "source": [
    "# Boxplots\n",
    "entropy_features = thousand_features.filter(like=\"Entropy\")\n",
    "list(entropy_features.columns)\n",
    "boxplot = thousand_features.boxplot(column=list(thousand_features[entropy_features.columns]), by=['y'], figsize=(15,10), grid=False, showfliers=False)"
   ]
  },
  {
   "cell_type": "markdown",
   "metadata": {},
   "source": [
    "# Back to the whole dataset"
   ]
  },
  {
   "cell_type": "markdown",
   "metadata": {},
   "source": [
    "### Generating training features"
   ]
  },
  {
   "cell_type": "code",
   "execution_count": null,
   "metadata": {},
   "outputs": [],
   "source": [
    "#Create driss features\n",
    "get_features.features_data(file_train, list_sensors)\n",
    "get_features.features_data(file_test, list_sensors)\n",
    "\n",
    "#Create Mike features\n",
    "get_features.gene_features(file_train)\n",
    "get_features.gene_features(file_test)"
   ]
  },
  {
   "cell_type": "markdown",
   "metadata": {},
   "source": [
    "### Build some models for classification"
   ]
  },
  {
   "cell_type": "code",
   "execution_count": null,
   "metadata": {},
   "outputs": [],
   "source": [
    "# Features and corresponding labels\n",
    "X = all_train_features\n",
    "y = Y_train\n"
   ]
  },
  {
   "cell_type": "markdown",
   "metadata": {},
   "source": [
    "#### Sklearn Random Forest with tuning"
   ]
  },
  {
   "cell_type": "code",
   "execution_count": null,
   "metadata": {},
   "outputs": [],
   "source": [
    "# Tuning Random Forest classifier with cross validation\n",
    "X_train, X_test, y_train, y_test = train_test_split(X, y, test_size=0.2)\n",
    "rf = RandomForestClassifier()\n",
    "parameters = {'n_estimators':[100,150,200], 'max_features': ['auto','sqrt','log2']}\n",
    "clf = GridSearchCV(rf, parameters, cv=5)\n",
    "clf.fit(X_train, y_train)\n",
    "f1_score(y_test, clf.predict(X_test), average = 'macro')"
   ]
  },
  {
   "cell_type": "markdown",
   "metadata": {},
   "source": [
    "#### Sklearn GradientBoosting with tuning"
   ]
  },
  {
   "cell_type": "code",
   "execution_count": 16,
   "metadata": {},
   "outputs": [
    {
     "name": "stderr",
     "output_type": "stream",
     "text": [
      "C:\\Users\\mehdi\\Anaconda3\\lib\\site-packages\\sklearn\\utils\\validation.py:578: DataConversionWarning: A column-vector y was passed when a 1d array was expected. Please change the shape of y to (n_samples, ), for example using ravel().\n",
      "  y = column_or_1d(y, warn=True)\n"
     ]
    },
    {
     "data": {
      "text/plain": [
       "0.50120212505288"
      ]
     },
     "execution_count": 16,
     "metadata": {},
     "output_type": "execute_result"
    }
   ],
   "source": [
    "# Sklearn GradientBoosting\n",
    "gbc = GradientBoostingClassifier()\n",
    "parameters = {'n_estimators':[100,150,200], 'max_features': ['auto','sqrt','log2']}\n",
    "clf = GridSearchCV(gbc, parameters, cv=5)\n",
    "clf.fit(X_train, y_train)\n",
    "f1_score(y_test, gbc.predict(X_test), average = 'macro')"
   ]
  },
  {
   "cell_type": "markdown",
   "metadata": {},
   "source": [
    "Not a very good result"
   ]
  },
  {
   "cell_type": "markdown",
   "metadata": {},
   "source": [
    "#### XgBoost Model "
   ]
  },
  {
   "cell_type": "code",
   "execution_count": 101,
   "metadata": {
    "scrolled": true
   },
   "outputs": [
    {
     "name": "stdout",
     "output_type": "stream",
     "text": [
      "[0]\teval-merror:0.401802\ttrain-merror:0.361105\n",
      "[1]\teval-merror:0.38117\ttrain-merror:0.33662\n",
      "[2]\teval-merror:0.371246\ttrain-merror:0.323137\n",
      "[3]\teval-merror:0.36093\ttrain-merror:0.307172\n",
      "[4]\teval-merror:0.349047\ttrain-merror:0.296497\n",
      "[5]\teval-merror:0.343171\ttrain-merror:0.286083\n",
      "[6]\teval-merror:0.338731\ttrain-merror:0.275309\n",
      "[7]\teval-merror:0.332071\ttrain-merror:0.267115\n",
      "[8]\teval-merror:0.326587\ttrain-merror:0.260977\n",
      "[9]\teval-merror:0.32515\ttrain-merror:0.253958\n",
      "[10]\teval-merror:0.319796\ttrain-merror:0.246025\n",
      "[11]\teval-merror:0.316271\ttrain-merror:0.239039\n",
      "[12]\teval-merror:0.314442\ttrain-merror:0.232216\n",
      "[13]\teval-merror:0.309611\ttrain-merror:0.227221\n",
      "[14]\teval-merror:0.30726\ttrain-merror:0.224283\n",
      "[15]\teval-merror:0.305171\ttrain-merror:0.219712\n",
      "[16]\teval-merror:0.30034\ttrain-merror:0.214717\n",
      "[17]\teval-merror:0.30047\ttrain-merror:0.209918\n",
      "[18]\teval-merror:0.300601\ttrain-merror:0.204695\n",
      "[19]\teval-merror:0.298381\ttrain-merror:0.199079\n",
      "[20]\teval-merror:0.296553\ttrain-merror:0.193856\n",
      "[21]\teval-merror:0.292896\ttrain-merror:0.187849\n",
      "[22]\teval-merror:0.290546\ttrain-merror:0.184225\n",
      "[23]\teval-merror:0.288065\ttrain-merror:0.180014\n",
      "[24]\teval-merror:0.286237\ttrain-merror:0.174692\n",
      "[25]\teval-merror:0.283756\ttrain-merror:0.170514\n",
      "[26]\teval-merror:0.283756\ttrain-merror:0.167151\n",
      "[27]\teval-merror:0.281274\ttrain-merror:0.163331\n",
      "[28]\teval-merror:0.278532\ttrain-merror:0.159773\n",
      "[29]\teval-merror:0.277879\ttrain-merror:0.156573\n",
      "[30]\teval-merror:0.277357\ttrain-merror:0.151513\n",
      "[31]\teval-merror:0.278532\ttrain-merror:0.145963\n",
      "[32]\teval-merror:0.276704\ttrain-merror:0.143156\n",
      "[33]\teval-merror:0.277879\ttrain-merror:0.139597\n",
      "[34]\teval-merror:0.275137\ttrain-merror:0.135255\n",
      "[35]\teval-merror:0.276182\ttrain-merror:0.131076\n",
      "[36]\teval-merror:0.274745\ttrain-merror:0.127028\n",
      "[37]\teval-merror:0.271742\ttrain-merror:0.123861\n",
      "[38]\teval-merror:0.270828\ttrain-merror:0.119781\n",
      "[39]\teval-merror:0.270828\ttrain-merror:0.116842\n",
      "[40]\teval-merror:0.269522\ttrain-merror:0.112337\n",
      "[41]\teval-merror:0.269783\ttrain-merror:0.10855\n",
      "[42]\teval-merror:0.269783\ttrain-merror:0.105808\n",
      "[43]\teval-merror:0.268869\ttrain-merror:0.103033\n",
      "[44]\teval-merror:0.269261\ttrain-merror:0.099997\n",
      "[45]\teval-merror:0.268869\ttrain-merror:0.097809\n",
      "[46]\teval-merror:0.266127\ttrain-merror:0.093533\n",
      "[47]\teval-merror:0.266257\ttrain-merror:0.09017\n",
      "[48]\teval-merror:0.266649\ttrain-merror:0.087722\n",
      "[49]\teval-merror:0.264821\ttrain-merror:0.085959\n",
      "[50]\teval-merror:0.265474\ttrain-merror:0.084392\n",
      "[51]\teval-merror:0.262993\ttrain-merror:0.081388\n",
      "[52]\teval-merror:0.262862\ttrain-merror:0.080246\n",
      "[53]\teval-merror:0.262471\ttrain-merror:0.076328\n",
      "[54]\teval-merror:0.263385\ttrain-merror:0.075838\n",
      "[55]\teval-merror:0.262862\ttrain-merror:0.074565\n",
      "[56]\teval-merror:0.262601\ttrain-merror:0.071855\n",
      "[57]\teval-merror:0.263385\ttrain-merror:0.06895\n",
      "[58]\teval-merror:0.26234\ttrain-merror:0.066175\n",
      "[59]\teval-merror:0.263515\ttrain-merror:0.06402\n",
      "[60]\teval-merror:0.261426\ttrain-merror:0.062616\n",
      "[61]\teval-merror:0.260904\ttrain-merror:0.061115\n",
      "[62]\teval-merror:0.260251\ttrain-merror:0.059188\n",
      "[63]\teval-merror:0.262471\ttrain-merror:0.057066\n",
      "[64]\teval-merror:0.261165\ttrain-merror:0.055401\n",
      "[65]\teval-merror:0.261426\ttrain-merror:0.053802\n",
      "[66]\teval-merror:0.25999\ttrain-merror:0.052561\n",
      "[67]\teval-merror:0.259859\ttrain-merror:0.050896\n",
      "[68]\teval-merror:0.259598\ttrain-merror:0.049394\n",
      "[69]\teval-merror:0.259337\ttrain-merror:0.048382\n",
      "[70]\teval-merror:0.2579\ttrain-merror:0.046064\n",
      "[71]\teval-merror:0.258945\ttrain-merror:0.044628\n",
      "[72]\teval-merror:0.258945\ttrain-merror:0.043322\n",
      "[73]\teval-merror:0.258814\ttrain-merror:0.041722\n",
      "[74]\teval-merror:0.259598\ttrain-merror:0.040874\n",
      "[75]\teval-merror:0.25777\ttrain-merror:0.039078\n",
      "[76]\teval-merror:0.2579\ttrain-merror:0.037609\n",
      "[77]\teval-merror:0.255811\ttrain-merror:0.036368\n",
      "[78]\teval-merror:0.255289\ttrain-merror:0.034997\n",
      "[79]\teval-merror:0.25568\ttrain-merror:0.034312\n",
      "[80]\teval-merror:0.253591\ttrain-merror:0.032647\n",
      "[81]\teval-merror:0.254897\ttrain-merror:0.031537\n",
      "[82]\teval-merror:0.254897\ttrain-merror:0.031178\n",
      "[83]\teval-merror:0.255419\ttrain-merror:0.030231\n",
      "[84]\teval-merror:0.256072\ttrain-merror:0.029578\n",
      "[85]\teval-merror:0.255289\ttrain-merror:0.029088\n",
      "[86]\teval-merror:0.253983\ttrain-merror:0.027978\n",
      "[87]\teval-merror:0.252416\ttrain-merror:0.027064\n",
      "[88]\teval-merror:0.253852\ttrain-merror:0.025824\n",
      "[89]\teval-merror:0.252546\ttrain-merror:0.025171\n",
      "[90]\teval-merror:0.252546\ttrain-merror:0.02393\n",
      "[91]\teval-merror:0.252938\ttrain-merror:0.022657\n",
      "[92]\teval-merror:0.253199\ttrain-merror:0.022004\n",
      "[93]\teval-merror:0.252285\ttrain-merror:0.021416\n",
      "[94]\teval-merror:0.251763\ttrain-merror:0.020731\n",
      "[95]\teval-merror:0.251241\ttrain-merror:0.020078\n",
      "[96]\teval-merror:0.250979\ttrain-merror:0.019294\n",
      "[97]\teval-merror:0.252155\ttrain-merror:0.018119\n",
      "[98]\teval-merror:0.250326\ttrain-merror:0.017629\n",
      "[99]\teval-merror:0.251241\ttrain-merror:0.016748\n"
     ]
    },
    {
     "data": {
      "text/plain": [
       "0.623860293846173"
      ]
     },
     "execution_count": 101,
     "metadata": {},
     "output_type": "execute_result"
    }
   ],
   "source": [
    "# XgBoost Model\n",
    "dtrain = xgb.DMatrix(X_train, label=y_train)\n",
    "dtest = xgb.DMatrix(X_test, label=y_test)\n",
    "\n",
    "param = {'max_depth':6,'num_class':5,'silent': 1, 'objective': 'multi:softmax'}\n",
    "num_round = 100\n",
    "evallist = [(dtest, 'eval'), (dtrain, 'train')]\n",
    "bst = xgb.train(param, dtrain, num_round, evallist)\n",
    "f1_score(y_test, bst.predict(dtest), average = 'macro')"
   ]
  },
  {
   "cell_type": "markdown",
   "metadata": {},
   "source": [
    "Xgboost gives better results compared with Gradient Boosting but there is still room for improvement\n",
    "> Let's choose our features in a better way"
   ]
  },
  {
   "cell_type": "markdown",
   "metadata": {},
   "source": [
    "# Removing Correlated Features"
   ]
  },
  {
   "cell_type": "code",
   "execution_count": 19,
   "metadata": {},
   "outputs": [],
   "source": [
    "# Create correlation matrix\n",
    "corr_matrix = X.corr().abs()\n",
    "\n",
    "# Select upper triangle of correlation matrix\n",
    "upper = corr_matrix.where(np.triu(np.ones(corr_matrix.shape), k=1).astype(np.bool))\n",
    "\n",
    "# Find index of feature columns with correlation greater than 0.95\n",
    "to_drop = [column for column in upper.columns if any(upper[column] > 0.95)]\n",
    "\n",
    "X_uncorr = X.drop(to_drop, axis=1)"
   ]
  },
  {
   "cell_type": "code",
   "execution_count": 322,
   "metadata": {},
   "outputs": [
    {
     "name": "stdout",
     "output_type": "stream",
     "text": [
      "Number of features correlated with other features: 67\n"
     ]
    }
   ],
   "source": [
    "print('Number of features correlated with other features:',len(to_drop))"
   ]
  },
  {
   "cell_type": "markdown",
   "metadata": {},
   "source": [
    "## Features Selection "
   ]
  },
  {
   "cell_type": "markdown",
   "metadata": {},
   "source": [
    "We will use three different methods to select important features only\n",
    "\n",
    "- Random Forest Features Importance\n",
    "- ExtraTreeClassifier Feature Importance\n",
    "- Recursive features elimination"
   ]
  },
  {
   "cell_type": "markdown",
   "metadata": {},
   "source": [
    "### Random Forest Feature Importance"
   ]
  },
  {
   "cell_type": "code",
   "execution_count": 118,
   "metadata": {},
   "outputs": [
    {
     "name": "stderr",
     "output_type": "stream",
     "text": [
      "C:\\Users\\mehdi\\Anaconda3\\lib\\site-packages\\ipykernel_launcher.py:2: DataConversionWarning: A column-vector y was passed when a 1d array was expected. Please change the shape of y to (n_samples,), for example using ravel().\n",
      "  \n"
     ]
    }
   ],
   "source": [
    "rnd_clf = RandomForestClassifier(n_estimators=200, n_jobs=-1, random_state=42)\n",
    "rnd_clf.fit(X_uncorr, y)\n",
    "\n",
    "df_rf = pd.DataFrame(index=X_uncorr.columns)\n",
    "df_rf['Imp'] = rnd_clf.feature_importances_\n",
    "\n",
    "df_rf = df_rf.sort_values(by='Imp',ascending=False)"
   ]
  },
  {
   "cell_type": "markdown",
   "metadata": {},
   "source": [
    "### ExtraTreeClassifier Feature Importance"
   ]
  },
  {
   "cell_type": "code",
   "execution_count": 119,
   "metadata": {},
   "outputs": [
    {
     "name": "stderr",
     "output_type": "stream",
     "text": [
      "C:\\Users\\mehdi\\Anaconda3\\lib\\site-packages\\ipykernel_launcher.py:4: DataConversionWarning: A column-vector y was passed when a 1d array was expected. Please change the shape of y to (n_samples,), for example using ravel().\n",
      "  after removing the cwd from sys.path.\n"
     ]
    }
   ],
   "source": [
    "forest = ExtraTreesClassifier(n_estimators=200,\n",
    "                              random_state=0)\n",
    "\n",
    "forest.fit(X_uncorr, y)\n",
    "importances = forest.feature_importances_\n",
    "\n",
    "importances_dataframe = pd.DataFrame(index=X_uncorr.columns)\n",
    "importances_dataframe['Importance'] = importances\n",
    "\n",
    "importances_dataframe = importances_dataframe.sort_values(by='Importance', ascending=False)\n"
   ]
  },
  {
   "cell_type": "markdown",
   "metadata": {},
   "source": [
    "### Recursive Features Elimination"
   ]
  },
  {
   "cell_type": "code",
   "execution_count": null,
   "metadata": {},
   "outputs": [],
   "source": [
    "# Takes time to run !!!\n",
    "estimator = GradientBoostingClassifier(n_estimators = 100, max_depth = 5)\n",
    "selector = RFE(estimator, 20, step=1)\n",
    "selector = selector.fit(X, y)"
   ]
  },
  {
   "cell_type": "code",
   "execution_count": null,
   "metadata": {},
   "outputs": [],
   "source": [
    "try:\n",
    "    df = pd.DataFrame(index=X.columns)\n",
    "    df['Importance'] = selector.ranking_\n",
    "    df = df.sort_values(by='Importance')\n",
    "except:\n",
    "    df = pd.read_excel('feat_imp_recur.xlsx')\n",
    "X_bis_rec = X.drop(df.index[20:],axis=1)"
   ]
  },
  {
   "cell_type": "markdown",
   "metadata": {},
   "source": [
    "### Merging selected features and building new dataset of features"
   ]
  },
  {
   "cell_type": "markdown",
   "metadata": {},
   "source": [
    "We keep the 60 first important features got from the three methods"
   ]
  },
  {
   "cell_type": "code",
   "execution_count": 151,
   "metadata": {},
   "outputs": [],
   "source": [
    "nbr_feat = 60\n",
    "X_duo = X_uncorr[np.unique(np.concatenate([df_rf.index[0: nbr_feat], importances_dataframe.index[0: nbr_feat]\n",
    "                                           ]))] \n"
   ]
  },
  {
   "cell_type": "markdown",
   "metadata": {},
   "source": [
    "### Finding Optimal Parameters"
   ]
  },
  {
   "cell_type": "code",
   "execution_count": 165,
   "metadata": {},
   "outputs": [],
   "source": [
    "from xgboost import XGBClassifier\n",
    "from sklearn.model_selection import StratifiedKFold\n",
    "from sklearn.model_selection import RandomizedSearchCV, GridSearchCV\n",
    "xgb = XGBClassifier(learning_rate=0.02, n_estimators=600, objective='multi:softmax',\n",
    "                    silent=True, nthread=1)\n",
    "params = {\n",
    "        'min_child_weight': [1, 5, 10],\n",
    "        'gamma': [0.5, 1, 1.5],\n",
    "        'subsample': [0.6, 0.8, 1.0],\n",
    "        'colsample_bytree': [0.6, 0.8, 1.0],\n",
    "        'max_depth': [10, 15, 20]\n",
    "        }\n",
    "folds = 3\n",
    "param_comb = 5\n",
    "\n",
    "skf = StratifiedKFold(n_splits=folds, shuffle = True, random_state = 1001)\n",
    "\n",
    "random_search = RandomizedSearchCV(xgb, param_distributions=params, n_iter=param_comb, \n",
    "                                   scoring='roc_auc', n_jobs=4, cv=skf.split(X_duo,y), verbose=3, random_state=1001 )\n",
    "\n"
   ]
  },
  {
   "cell_type": "markdown",
   "metadata": {},
   "source": [
    "### Build some models for classification"
   ]
  },
  {
   "cell_type": "markdown",
   "metadata": {},
   "source": [
    "#### Training an Xgboost Model"
   ]
  },
  {
   "cell_type": "code",
   "execution_count": 124,
   "metadata": {
    "collapsed": true
   },
   "outputs": [
    {
     "name": "stdout",
     "output_type": "stream",
     "text": [
      "[0]\teval-merror:0.380909\ttrain-merror:0.335804\n",
      "[1]\teval-merror:0.358318\ttrain-merror:0.308903\n",
      "[2]\teval-merror:0.344476\ttrain-merror:0.288792\n",
      "[3]\teval-merror:0.337294\ttrain-merror:0.273514\n",
      "[4]\teval-merror:0.329982\ttrain-merror:0.261794\n",
      "[5]\teval-merror:0.324628\ttrain-merror:0.253567\n",
      "[6]\teval-merror:0.320319\ttrain-merror:0.242891\n",
      "[7]\teval-merror:0.314834\ttrain-merror:0.23251\n",
      "[8]\teval-merror:0.309611\ttrain-merror:0.222258\n",
      "[9]\teval-merror:0.307913\ttrain-merror:0.216121\n",
      "[10]\teval-merror:0.303343\ttrain-merror:0.20711\n",
      "[11]\teval-merror:0.300731\ttrain-merror:0.200287\n",
      "[12]\teval-merror:0.297728\ttrain-merror:0.193758\n",
      "[13]\teval-merror:0.29381\ttrain-merror:0.186543\n",
      "[14]\teval-merror:0.290546\ttrain-merror:0.180046\n",
      "[15]\teval-merror:0.28702\ttrain-merror:0.172897\n",
      "[16]\teval-merror:0.284408\ttrain-merror:0.168881\n",
      "[17]\teval-merror:0.282189\ttrain-merror:0.163429\n",
      "[18]\teval-merror:0.281927\ttrain-merror:0.158271\n",
      "[19]\teval-merror:0.278924\ttrain-merror:0.153864\n",
      "[20]\teval-merror:0.278532\ttrain-merror:0.150338\n",
      "[21]\teval-merror:0.278532\ttrain-merror:0.145604\n",
      "[22]\teval-merror:0.275659\ttrain-merror:0.139467\n",
      "[23]\teval-merror:0.274745\ttrain-merror:0.133982\n",
      "[24]\teval-merror:0.273048\ttrain-merror:0.131925\n",
      "[25]\teval-merror:0.27122\ttrain-merror:0.129411\n",
      "[26]\teval-merror:0.269261\ttrain-merror:0.123143\n",
      "[27]\teval-merror:0.268739\ttrain-merror:0.121184\n",
      "[28]\teval-merror:0.267041\ttrain-merror:0.117365\n",
      "[29]\teval-merror:0.265213\ttrain-merror:0.113904\n",
      "[30]\teval-merror:0.263515\ttrain-merror:0.107473\n",
      "[31]\teval-merror:0.264299\ttrain-merror:0.104828\n",
      "[32]\teval-merror:0.262993\ttrain-merror:0.101792\n",
      "[33]\teval-merror:0.263124\ttrain-merror:0.099442\n",
      "[34]\teval-merror:0.262209\ttrain-merror:0.097744\n",
      "[35]\teval-merror:0.261295\ttrain-merror:0.095655\n",
      "[36]\teval-merror:0.261165\ttrain-merror:0.093435\n",
      "[37]\teval-merror:0.260773\ttrain-merror:0.090692\n",
      "[38]\teval-merror:0.260512\ttrain-merror:0.087526\n",
      "[39]\teval-merror:0.260381\ttrain-merror:0.083771\n",
      "[40]\teval-merror:0.261295\ttrain-merror:0.081192\n",
      "[41]\teval-merror:0.260904\ttrain-merror:0.079919\n",
      "[42]\teval-merror:0.260642\ttrain-merror:0.077536\n",
      "[43]\teval-merror:0.259728\ttrain-merror:0.07339\n",
      "[44]\teval-merror:0.258553\ttrain-merror:0.07068\n",
      "[45]\teval-merror:0.258553\ttrain-merror:0.068525\n",
      "[46]\teval-merror:0.257378\ttrain-merror:0.065652\n",
      "[47]\teval-merror:0.256594\ttrain-merror:0.062649\n",
      "[48]\teval-merror:0.255419\ttrain-merror:0.060429\n",
      "[49]\teval-merror:0.255942\ttrain-merror:0.057099\n",
      "[50]\teval-merror:0.254113\ttrain-merror:0.054487\n",
      "[51]\teval-merror:0.253983\ttrain-merror:0.051549\n",
      "[52]\teval-merror:0.253591\ttrain-merror:0.050243\n",
      "[53]\teval-merror:0.253591\ttrain-merror:0.048644\n",
      "[54]\teval-merror:0.25333\ttrain-merror:0.046848\n",
      "[55]\teval-merror:0.254636\ttrain-merror:0.045542\n",
      "[56]\teval-merror:0.254636\ttrain-merror:0.044302\n",
      "[57]\teval-merror:0.253069\ttrain-merror:0.043028\n",
      "[58]\teval-merror:0.252024\ttrain-merror:0.04182\n",
      "[59]\teval-merror:0.250849\ttrain-merror:0.040612\n",
      "[60]\teval-merror:0.250065\ttrain-merror:0.039307\n",
      "[61]\teval-merror:0.249412\ttrain-merror:0.038523\n",
      "[62]\teval-merror:0.250457\ttrain-merror:0.036009\n",
      "[63]\teval-merror:0.250457\ttrain-merror:0.033855\n",
      "[64]\teval-merror:0.248759\ttrain-merror:0.03183\n",
      "[65]\teval-merror:0.248237\ttrain-merror:0.030166\n",
      "[66]\teval-merror:0.248368\ttrain-merror:0.028435\n",
      "[67]\teval-merror:0.246801\ttrain-merror:0.026476\n",
      "[68]\teval-merror:0.246409\ttrain-merror:0.026117\n",
      "[69]\teval-merror:0.246278\ttrain-merror:0.025007\n",
      "[70]\teval-merror:0.24667\ttrain-merror:0.024452\n",
      "[71]\teval-merror:0.246409\ttrain-merror:0.023734\n",
      "[72]\teval-merror:0.245887\ttrain-merror:0.022755\n",
      "[73]\teval-merror:0.24667\ttrain-merror:0.021743\n",
      "[74]\teval-merror:0.247323\ttrain-merror:0.020469\n",
      "[75]\teval-merror:0.246801\ttrain-merror:0.01998\n",
      "[76]\teval-merror:0.246148\ttrain-merror:0.018837\n",
      "[77]\teval-merror:0.245234\ttrain-merror:0.018347\n",
      "[78]\teval-merror:0.245887\ttrain-merror:0.017792\n",
      "[79]\teval-merror:0.245495\ttrain-merror:0.017401\n",
      "[80]\teval-merror:0.244059\ttrain-merror:0.016421\n",
      "[81]\teval-merror:0.242753\ttrain-merror:0.015475\n",
      "[82]\teval-merror:0.242361\ttrain-merror:0.014724\n",
      "[83]\teval-merror:0.243275\ttrain-merror:0.014495\n",
      "[84]\teval-merror:0.24223\ttrain-merror:0.014103\n",
      "[85]\teval-merror:0.241839\ttrain-merror:0.013418\n",
      "[86]\teval-merror:0.240925\ttrain-merror:0.013157\n",
      "[87]\teval-merror:0.241055\ttrain-merror:0.012732\n",
      "[88]\teval-merror:0.241708\ttrain-merror:0.012112\n",
      "[89]\teval-merror:0.241186\ttrain-merror:0.011459\n",
      "[90]\teval-merror:0.239749\ttrain-merror:0.010904\n",
      "[91]\teval-merror:0.24001\ttrain-merror:0.01048\n",
      "[92]\teval-merror:0.24001\ttrain-merror:0.009468\n",
      "[93]\teval-merror:0.239488\ttrain-merror:0.00937\n",
      "[94]\teval-merror:0.238313\ttrain-merror:0.00901\n",
      "[95]\teval-merror:0.23766\ttrain-merror:0.008521\n",
      "[96]\teval-merror:0.237138\ttrain-merror:0.008096\n",
      "[97]\teval-merror:0.238313\ttrain-merror:0.007672\n",
      "[98]\teval-merror:0.23766\ttrain-merror:0.007345\n",
      "[99]\teval-merror:0.238182\ttrain-merror:0.007084\n"
     ]
    },
    {
     "data": {
      "text/plain": [
       "0.6348825900902257"
      ]
     },
     "execution_count": 124,
     "metadata": {},
     "output_type": "execute_result"
    }
   ],
   "source": [
    "# Split data to train and test using new dataset of features\n",
    "X_train, X_test, y_train, y_test = train_test_split(X_duo, y, test_size=0.2)\n",
    "dtrain = xgb.DMatrix(X_train, label=y_train)\n",
    "dtest = xgb.DMatrix(X_test, label=y_test)\n",
    "\n",
    "param = {'max_depth':6,'num_class':5,#'colsample_bytree':0.7,'eta': 0.3,'min_child_weigh':7,\n",
    "         'silent': 1, 'objective': 'multi:softmax'}\n",
    "num_round = 100\n",
    "evallist = [(dtest, 'eval'), (dtrain, 'train')]\n",
    "bst = xgb.train(param, dtrain, num_round, evallist)\n",
    "f1_score(y_test, bst.predict(dtest), average = 'macro')"
   ]
  },
  {
   "cell_type": "markdown",
   "metadata": {},
   "source": [
    "> We observe that we have a better score than the one before but we might overfit because of the number of estimators chosen (num_round)\n",
    "Let's try to merge predictions from different classfiers"
   ]
  },
  {
   "cell_type": "markdown",
   "metadata": {},
   "source": [
    "### Voting Classifier"
   ]
  },
  {
   "cell_type": "code",
   "execution_count": 114,
   "metadata": {},
   "outputs": [
    {
     "name": "stderr",
     "output_type": "stream",
     "text": [
      "C:\\Users\\mehdi\\Anaconda3\\lib\\site-packages\\sklearn\\preprocessing\\label.py:95: DataConversionWarning: A column-vector y was passed when a 1d array was expected. Please change the shape of y to (n_samples, ), for example using ravel().\n",
      "  y = column_or_1d(y, warn=True)\n",
      "C:\\Users\\mehdi\\Anaconda3\\lib\\site-packages\\sklearn\\preprocessing\\label.py:128: DataConversionWarning: A column-vector y was passed when a 1d array was expected. Please change the shape of y to (n_samples, ), for example using ravel().\n",
      "  y = column_or_1d(y, warn=True)\n"
     ]
    }
   ],
   "source": [
    "from sklearn.ensemble import RandomForestClassifier, VotingClassifier\n",
    "from sklearn.linear_model import LogisticRegression\n",
    "\n",
    "clf2 = RandomForestClassifier(n_estimators=100, random_state=1,max_depth= 5)\n",
    "clf3 = GradientBoostingClassifier(n_estimators = 100, max_depth = 5)\n",
    "clf4 = xgb.XGBClassifier(n_estimators=100, objective='multi:softmax', silent=True, nthread=1)\n",
    "eclf1 = VotingClassifier(estimators=[ ('rf', clf2), ('gb', clf3), ('xgb',clf4)], voting='soft')\n",
    "eclf1 = eclf1.fit(X_train, y_train)\n",
    "\n",
    "\n",
    "eclf1 = VotingClassifier(estimators=[ ('rf', clf2), ('gb', clf3), ('xgb',clf4)], voting='soft')\n",
    "eclf1 = eclf1.fit(X_train, y_train)\n",
    "f1_score(y_test, eclf1.predict(X_test), average = 'macro')"
   ]
  },
  {
   "cell_type": "markdown",
   "metadata": {},
   "source": [
    "As notified before, our training dataset is unbalanced. Let us now rebalance it and see what happens."
   ]
  },
  {
   "cell_type": "markdown",
   "metadata": {},
   "source": [
    "## Rebalancing the dataset"
   ]
  },
  {
   "cell_type": "code",
   "execution_count": 22,
   "metadata": {},
   "outputs": [
    {
     "name": "stdout",
     "output_type": "stream",
     "text": [
      "(1353, 409)\n",
      "(17132, 409)\n",
      "(5731, 409)\n",
      "(10454, 409)\n",
      "(3619, 409)\n"
     ]
    }
   ],
   "source": [
    "all_train_features_labeled = pd.concat([all_train_features, y_train['sleep_stage']],\n",
    "                                       axis=1, join_axes=[all_train_features.index])\n",
    "\n",
    "class_one_data = all_train_features_labeled[all_train_features_labeled['sleep_stage'] == 1].reset_index()\n",
    "class_two_data = all_train_features_labeled[all_train_features_labeled['sleep_stage'] == 2].reset_index()\n",
    "class_three_data = all_train_features_labeled[all_train_features_labeled['sleep_stage'] == 3].reset_index()\n",
    "class_four_data = all_train_features_labeled[all_train_features_labeled['sleep_stage'] == 4].reset_index()\n",
    "class_zero_data = all_train_features_labeled[all_train_features_labeled['sleep_stage'] == 0].reset_index()\n",
    "\n",
    "print(class_one_data.shape)\n",
    "print(class_two_data.shape)\n",
    "print(class_three_data.shape)\n",
    "print(class_four_data.shape)\n",
    "print(class_zero_data.shape)"
   ]
  },
  {
   "cell_type": "code",
   "execution_count": 23,
   "metadata": {},
   "outputs": [],
   "source": [
    "# Duplicate rows of class 1\n",
    "class_one_data = class_one_data.append([class_one_data] * 1).reset_index()\n",
    "\n",
    "# Truncate rows of classes two and four\n",
    "class_two_data = class_two_data.truncate(before=0, after=8000)\n",
    "class_four_data = class_four_data.truncate(before=0, after=6000)\n",
    "\n",
    "# class_zero_data = class_zero_data.append([class_zero_data])\n",
    "# class_zero_data = class_zero_data\n",
    "\n"
   ]
  },
  {
   "cell_type": "code",
   "execution_count": null,
   "metadata": {},
   "outputs": [],
   "source": [
    "rebalanced_train_data = pd.concat([class_one_data, class_two_data, class_three_data, class_four_data, class_zero_data])\n",
    "rebalanced_train_data = rebalanced_train_data.sample(frac=1)\n",
    "\n",
    "# Save the new training features' dataset\n",
    "rebalanced_train_data.to_csv(\"rebalanced_train_features.csv\")"
   ]
  },
  {
   "cell_type": "code",
   "execution_count": 26,
   "metadata": {},
   "outputs": [
    {
     "data": {
      "image/png": "[encoded data removed]",
      "text/plain": [
       "<Figure size 432x288 with 1 Axes>"
      ]
     },
     "metadata": {},
     "output_type": "display_data"
    }
   ],
   "source": [
    "# Distribution of the sample\n",
    "train_labels_, counter_train = np.unique(rebalanced_train_data['sleep_stage'], return_counts=True)\n",
    "labels_names = np.array([sleeping_labels[label] for label in train_labels_])\n",
    "colors = ['yellowgreen', 'gold', 'lightskyblue', 'lightcoral', \"mediumorchid\"]\n",
    "explode = (0.03, 0.03, 0.03, 0.03, 0.03)\n",
    "plt.pie(counter_train, labels=labels_names, colors=colors, explode=explode,\n",
    "        autopct='%1.1f%%', startangle=90)   # shadow=True\n",
    "\n",
    "plt.axis('equal')\n",
    "plt.savefig('lables_pie.png')\n",
    "plt.show()"
   ]
  },
  {
   "cell_type": "markdown",
   "metadata": {},
   "source": [
    "> The distribution is now way more rebalanced"
   ]
  },
  {
   "cell_type": "markdown",
   "metadata": {},
   "source": [
    "#### Read the new file"
   ]
  },
  {
   "cell_type": "code",
   "execution_count": 35,
   "metadata": {},
   "outputs": [],
   "source": [
    "X_rebal = pd.read_csv('Data/rebalanced_train_features.csv', sep=',')\n",
    "y_rebal = X_rebal['sleep_stage']"
   ]
  },
  {
   "cell_type": "code",
   "execution_count": 37,
   "metadata": {},
   "outputs": [
    {
     "name": "stdout",
     "output_type": "stream",
     "text": [
      "(26058, 411)\n"
     ]
    },
    {
     "data": {
      "text/html": [
       "<div>\n",
       "<style scoped>\n",
       "    .dataframe tbody tr th:only-of-type {\n",
       "        vertical-align: middle;\n",
       "    }\n",
       "\n",
       "    .dataframe tbody tr th {\n",
       "        vertical-align: top;\n",
       "    }\n",
       "\n",
       "    .dataframe thead th {\n",
       "        text-align: right;\n",
       "    }\n",
       "</style>\n",
       "<table border=\"1\" class=\"dataframe\">\n",
       "  <thead>\n",
       "    <tr style=\"text-align: right;\">\n",
       "      <th></th>\n",
       "      <th>Unnamed: 0</th>\n",
       "      <th>Abs_Max accelerometer_x</th>\n",
       "      <th>Abs_Max accelerometer_y</th>\n",
       "      <th>Abs_Max accelerometer_z</th>\n",
       "      <th>Abs_Max eeg_1</th>\n",
       "      <th>Abs_Max eeg_2</th>\n",
       "      <th>Abs_Max eeg_3</th>\n",
       "      <th>Abs_Max eeg_4</th>\n",
       "      <th>Abs_Max eeg_5</th>\n",
       "      <th>Abs_Max eeg_6</th>\n",
       "      <th>...</th>\n",
       "      <th>max_psd_y_5_accelerometer_z</th>\n",
       "      <th>max_psd_y_5_eeg_1</th>\n",
       "      <th>max_psd_y_5_eeg_2</th>\n",
       "      <th>max_psd_y_5_eeg_3</th>\n",
       "      <th>max_psd_y_5_eeg_4</th>\n",
       "      <th>max_psd_y_5_eeg_5</th>\n",
       "      <th>max_psd_y_5_eeg_6</th>\n",
       "      <th>max_psd_y_5_eeg_7</th>\n",
       "      <th>max_psd_y_5_pulse_oximeter_infrared</th>\n",
       "      <th>sleep_stage</th>\n",
       "    </tr>\n",
       "  </thead>\n",
       "  <tbody>\n",
       "    <tr>\n",
       "      <th>0</th>\n",
       "      <td>1844</td>\n",
       "      <td>0.004489</td>\n",
       "      <td>0.003931</td>\n",
       "      <td>0.004038</td>\n",
       "      <td>55.874052</td>\n",
       "      <td>85.976135</td>\n",
       "      <td>48.017907</td>\n",
       "      <td>148.344379</td>\n",
       "      <td>145.078893</td>\n",
       "      <td>149.266416</td>\n",
       "      <td>...</td>\n",
       "      <td>6.620000e-08</td>\n",
       "      <td>3.491073e+00</td>\n",
       "      <td>6.965667</td>\n",
       "      <td>3.362594</td>\n",
       "      <td>21.649466</td>\n",
       "      <td>1.115648e+01</td>\n",
       "      <td>2.341354e+01</td>\n",
       "      <td>18.686814</td>\n",
       "      <td>3.675175e+02</td>\n",
       "      <td>3</td>\n",
       "    </tr>\n",
       "    <tr>\n",
       "      <th>1</th>\n",
       "      <td>4500</td>\n",
       "      <td>0.001853</td>\n",
       "      <td>0.001344</td>\n",
       "      <td>0.002129</td>\n",
       "      <td>27.564077</td>\n",
       "      <td>29.521212</td>\n",
       "      <td>24.543414</td>\n",
       "      <td>153.746772</td>\n",
       "      <td>638.643249</td>\n",
       "      <td>152.063901</td>\n",
       "      <td>...</td>\n",
       "      <td>8.120000e-08</td>\n",
       "      <td>2.396681e+00</td>\n",
       "      <td>6.268449</td>\n",
       "      <td>0.630637</td>\n",
       "      <td>11.616077</td>\n",
       "      <td>1.563647e+03</td>\n",
       "      <td>9.247094e+00</td>\n",
       "      <td>1569.039621</td>\n",
       "      <td>1.684057e+02</td>\n",
       "      <td>2</td>\n",
       "    </tr>\n",
       "    <tr>\n",
       "      <th>2</th>\n",
       "      <td>7679</td>\n",
       "      <td>0.003579</td>\n",
       "      <td>0.002260</td>\n",
       "      <td>0.004125</td>\n",
       "      <td>31.873831</td>\n",
       "      <td>43.837873</td>\n",
       "      <td>26.146709</td>\n",
       "      <td>79.528592</td>\n",
       "      <td>87.086067</td>\n",
       "      <td>68.993529</td>\n",
       "      <td>...</td>\n",
       "      <td>3.790000e-07</td>\n",
       "      <td>3.501312e+00</td>\n",
       "      <td>7.478523</td>\n",
       "      <td>1.605470</td>\n",
       "      <td>20.388373</td>\n",
       "      <td>2.956063e+01</td>\n",
       "      <td>1.750826e+01</td>\n",
       "      <td>23.186547</td>\n",
       "      <td>1.530561e+04</td>\n",
       "      <td>2</td>\n",
       "    </tr>\n",
       "    <tr>\n",
       "      <th>3</th>\n",
       "      <td>689</td>\n",
       "      <td>0.495310</td>\n",
       "      <td>0.469402</td>\n",
       "      <td>0.178729</td>\n",
       "      <td>66640.958031</td>\n",
       "      <td>66518.251366</td>\n",
       "      <td>10365.336272</td>\n",
       "      <td>17055.293121</td>\n",
       "      <td>23540.851332</td>\n",
       "      <td>71078.868164</td>\n",
       "      <td>...</td>\n",
       "      <td>5.627900e-04</td>\n",
       "      <td>4.724857e+06</td>\n",
       "      <td>819948.325500</td>\n",
       "      <td>68504.238830</td>\n",
       "      <td>461450.781100</td>\n",
       "      <td>1.175976e+06</td>\n",
       "      <td>5.951839e+06</td>\n",
       "      <td>689599.889800</td>\n",
       "      <td>4.129438e+10</td>\n",
       "      <td>1</td>\n",
       "    </tr>\n",
       "    <tr>\n",
       "      <th>4</th>\n",
       "      <td>771</td>\n",
       "      <td>0.050710</td>\n",
       "      <td>0.047964</td>\n",
       "      <td>0.031052</td>\n",
       "      <td>322.272009</td>\n",
       "      <td>383.649300</td>\n",
       "      <td>561.915795</td>\n",
       "      <td>2419.849885</td>\n",
       "      <td>815.852853</td>\n",
       "      <td>2276.796122</td>\n",
       "      <td>...</td>\n",
       "      <td>3.540000e-07</td>\n",
       "      <td>4.477053e+01</td>\n",
       "      <td>9.481689</td>\n",
       "      <td>31.431971</td>\n",
       "      <td>109.487167</td>\n",
       "      <td>1.533272e+02</td>\n",
       "      <td>1.071577e+02</td>\n",
       "      <td>98.613363</td>\n",
       "      <td>2.725052e+02</td>\n",
       "      <td>2</td>\n",
       "    </tr>\n",
       "  </tbody>\n",
       "</table>\n",
       "<p>5 rows × 411 columns</p>\n",
       "</div>"
      ],
      "text/plain": [
       "   Unnamed: 0  Abs_Max accelerometer_x  Abs_Max accelerometer_y  \\\n",
       "0        1844                 0.004489                 0.003931   \n",
       "1        4500                 0.001853                 0.001344   \n",
       "2        7679                 0.003579                 0.002260   \n",
       "3         689                 0.495310                 0.469402   \n",
       "4         771                 0.050710                 0.047964   \n",
       "\n",
       "   Abs_Max accelerometer_z  Abs_Max eeg_1  Abs_Max eeg_2  Abs_Max eeg_3  \\\n",
       "0                 0.004038      55.874052      85.976135      48.017907   \n",
       "1                 0.002129      27.564077      29.521212      24.543414   \n",
       "2                 0.004125      31.873831      43.837873      26.146709   \n",
       "3                 0.178729   66640.958031   66518.251366   10365.336272   \n",
       "4                 0.031052     322.272009     383.649300     561.915795   \n",
       "\n",
       "   Abs_Max eeg_4  Abs_Max eeg_5  Abs_Max eeg_6     ...       \\\n",
       "0     148.344379     145.078893     149.266416     ...        \n",
       "1     153.746772     638.643249     152.063901     ...        \n",
       "2      79.528592      87.086067      68.993529     ...        \n",
       "3   17055.293121   23540.851332   71078.868164     ...        \n",
       "4    2419.849885     815.852853    2276.796122     ...        \n",
       "\n",
       "   max_psd_y_5_accelerometer_z  max_psd_y_5_eeg_1  max_psd_y_5_eeg_2  \\\n",
       "0                 6.620000e-08       3.491073e+00           6.965667   \n",
       "1                 8.120000e-08       2.396681e+00           6.268449   \n",
       "2                 3.790000e-07       3.501312e+00           7.478523   \n",
       "3                 5.627900e-04       4.724857e+06      819948.325500   \n",
       "4                 3.540000e-07       4.477053e+01           9.481689   \n",
       "\n",
       "   max_psd_y_5_eeg_3  max_psd_y_5_eeg_4  max_psd_y_5_eeg_5  max_psd_y_5_eeg_6  \\\n",
       "0           3.362594          21.649466       1.115648e+01       2.341354e+01   \n",
       "1           0.630637          11.616077       1.563647e+03       9.247094e+00   \n",
       "2           1.605470          20.388373       2.956063e+01       1.750826e+01   \n",
       "3       68504.238830      461450.781100       1.175976e+06       5.951839e+06   \n",
       "4          31.431971         109.487167       1.533272e+02       1.071577e+02   \n",
       "\n",
       "   max_psd_y_5_eeg_7  max_psd_y_5_pulse_oximeter_infrared  sleep_stage  \n",
       "0          18.686814                         3.675175e+02            3  \n",
       "1        1569.039621                         1.684057e+02            2  \n",
       "2          23.186547                         1.530561e+04            2  \n",
       "3      689599.889800                         4.129438e+10            1  \n",
       "4          98.613363                         2.725052e+02            2  \n",
       "\n",
       "[5 rows x 411 columns]"
      ]
     },
     "execution_count": 37,
     "metadata": {},
     "output_type": "execute_result"
    }
   ],
   "source": [
    "print(X_rebal.shape)\n",
    "X_rebal.head()"
   ]
  },
  {
   "cell_type": "markdown",
   "metadata": {},
   "source": [
    "### Features selection"
   ]
  },
  {
   "cell_type": "markdown",
   "metadata": {},
   "source": [
    "In the same as for original features, we will select only some features to keep."
   ]
  },
  {
   "cell_type": "code",
   "execution_count": null,
   "metadata": {},
   "outputs": [],
   "source": [
    "# ExtraTrees \n",
    "forest_reb = ExtraTreesClassifier(n_estimators=250, random_state=0)\n",
    "\n",
    "forest_reb.fit(X_rebal, y_rebal)\n",
    "importances_reb = forest_reb.feature_importances_\n",
    "\n",
    "importances_dataframe_reb = pd.DataFrame(index=X_rebal.columns)\n",
    "importances_dataframe_reb['Importance'] = importances_reb\n",
    "\n",
    "importances_dataframe_reb = importances_dataframe_reb.sort_values(by='Importance', ascending=False)\n",
    "importances_dataframe_reb.head()\n",
    "\n",
    "# Random forest\n",
    "rnd_clf_reb = RandomForestClassifier(n_estimators=1000, n_jobs=-1, random_state=42)\n",
    "rnd_clf_reb.fit(X_rebal, y_rebal)\n",
    "\n",
    "df_rf_reb = pd.DataFrame(index=X_rebal.columns)\n",
    "df_rf_reb['Imp'] = rnd_clf_reb.feature_importances_\n",
    "\n",
    "df_rf_reb = df_rf_reb.sort_values(by='Imp', ascending=False)\n"
   ]
  },
  {
   "cell_type": "markdown",
   "metadata": {},
   "source": [
    "### Merge features and build models"
   ]
  },
  {
   "cell_type": "code",
   "execution_count": 17,
   "metadata": {},
   "outputs": [
    {
     "name": "stdout",
     "output_type": "stream",
     "text": [
      "[0]\teval-merror:0.37452\ttrain-merror:0.099012\n",
      "[1]\teval-merror:0.334804\ttrain-merror:0.043318\n",
      "[2]\teval-merror:0.311397\ttrain-merror:0.027583\n",
      "[3]\teval-merror:0.29528\ttrain-merror:0.018325\n",
      "[4]\teval-merror:0.287797\ttrain-merror:0.012089\n",
      "[5]\teval-merror:0.27878\ttrain-merror:0.007771\n",
      "[6]\teval-merror:0.273024\ttrain-merror:0.005181\n",
      "[7]\teval-merror:0.268419\ttrain-merror:0.003118\n",
      "[8]\teval-merror:0.264774\ttrain-merror:0.001919\n",
      "[9]\teval-merror:0.261512\ttrain-merror:0.001199\n",
      "[10]\teval-merror:0.259977\ttrain-merror:0.00072\n",
      "[11]\teval-merror:0.254988\ttrain-merror:0.000528\n",
      "[12]\teval-merror:0.253837\ttrain-merror:0.000288\n",
      "[13]\teval-merror:0.251343\ttrain-merror:0.000192\n",
      "[14]\teval-merror:0.250576\ttrain-merror:0.000144\n",
      "[15]\teval-merror:0.250959\ttrain-merror:4.8e-05\n",
      "[16]\teval-merror:0.248081\ttrain-merror:0\n",
      "[17]\teval-merror:0.245971\ttrain-merror:0\n",
      "[18]\teval-merror:0.245012\ttrain-merror:0\n",
      "[19]\teval-merror:0.243285\ttrain-merror:0\n"
     ]
    },
    {
     "data": {
      "text/plain": [
       "0.7633148824637035"
      ]
     },
     "execution_count": 17,
     "metadata": {},
     "output_type": "execute_result"
    }
   ],
   "source": [
    "X_duo_rebal = X_rebal[np.unique(np.concatenate([df_rf_reb.index[0:60], importances_dataframe_reb.index[0:60]]))]\n",
    "#X_trio =X[np.unique(np.concatenate([df_rf.index[0:20],df.index[0:20],importances_dataframe.index[0:20]]))]\n",
    "\n",
    "X_train, X_test, y_train, y_test = train_test_split(X_duo_rebal, y_rebal, test_size=0.2)\n",
    "dtrain = xgb.DMatrix(X_train, label=y_train)\n",
    "dtest = xgb.DMatrix(X_test, label=y_test)\n",
    "\n",
    "param = {'max_depth':15,'num_class':5, 'eta': 0.3, 'silent': 1, 'objective': 'multi:softmax'}\n",
    "num_round = 20\n",
    "evallist = [(dtest, 'eval'), (dtrain, 'train')]\n",
    "bst = xgb.train(param, dtrain, num_round, evallist)\n",
    "f1_score(y_test, bst.predict(dtest), average = 'macro')\n"
   ]
  },
  {
   "cell_type": "markdown",
   "metadata": {},
   "source": [
    "> We observe again better results "
   ]
  },
  {
   "cell_type": "markdown",
   "metadata": {},
   "source": [
    "## Classification on Test Dataset"
   ]
  },
  {
   "cell_type": "markdown",
   "metadata": {},
   "source": [
    "### Reading Features of Test dataset"
   ]
  },
  {
   "cell_type": "code",
   "execution_count": 218,
   "metadata": {},
   "outputs": [],
   "source": [
    "feat_test_mike = pd.read_excel('test_data/mike_test_features_all.xlsx')\n",
    "feat_test_driss = pd.read_csv('test_data/driss_test_features_all.csv', sep=',')\n",
    "\n",
    "feat_test_all = pd.concat([feat_test_mike,feat_test_driss], axis=1, join_axes=[feat_test_driss.index])"
   ]
  },
  {
   "cell_type": "markdown",
   "metadata": {},
   "source": [
    "### Training on the full dataset & generating predictions"
   ]
  },
  {
   "cell_type": "code",
   "execution_count": 152,
   "metadata": {},
   "outputs": [],
   "source": [
    "# Features selection\n",
    "feat_to_keep = 200\n",
    "X_uncorr = feat_test_all.drop(to_drop, axis=1)\n",
    "X_test_duo = feat_test_all[np.unique(np.concatenate([df_rf.index[0: feat_to_keep], \n",
    "                                                     importances_dataframe.index[0: feat_to_keep]]))]"
   ]
  },
  {
   "cell_type": "code",
   "execution_count": 154,
   "metadata": {},
   "outputs": [],
   "source": [
    "dtrain = xgb.DMatrix(X_duo, label=y)\n",
    "dtest = xgb.DMatrix(X_test_duo)\n",
    "\n",
    "param = {'max_depth':8,'num_class':5,#'colsample_bytree':0.7,'eta': 0.3,'min_child_weigh':7,\n",
    "         'silent': 1, 'objective': 'multi:softmax'}\n",
    "num_round = 100\n",
    "#evallist = [(dtest, 'eval'), (dtrain, 'train')]\n",
    "bst = xgb.train(param, dtrain, num_round)"
   ]
  },
  {
   "cell_type": "code",
   "execution_count": 155,
   "metadata": {},
   "outputs": [],
   "source": [
    "# Generate predictions\n",
    "dtest_to_pred = xgb.DMatrix(X_test_duo)\n",
    "\n",
    "output = pd.DataFrame(index=X_test_duo.index)\n",
    "output['id'] = output.index\n",
    "output['sleep_stage'] = bst.predict(dtest_to_pred).astype('int')\n",
    "\n",
    "\n",
    "# Generate CSV file to submit\n",
    "output.to_csv('Predictions/xgboost_100_fs_200.csv',sep=',',index=False)"
   ]
  },
  {
   "cell_type": "markdown",
   "metadata": {},
   "source": [
    "### Training on the Rebalanced dataset & generating predictions"
   ]
  },
  {
   "cell_type": "code",
   "execution_count": null,
   "metadata": {},
   "outputs": [],
   "source": [
    "# Reading data\n",
    "X_rebal = pd.read_csv('Data/rebalanced_train_features.csv', sep=',')\n",
    "y_rebal = X_rebal['sleep_stage']"
   ]
  },
  {
   "cell_type": "code",
   "execution_count": null,
   "metadata": {},
   "outputs": [],
   "source": [
    "# Features selection\n",
    "nbr_feat = 60\n",
    "X_duo_rebal = X_rebal[np.unique(np.concatenate([df_rf_reb.index[0:nbr_feat], \n",
    "                                                importances_dataframe_reb.index[0:nbr_feat]]))]\n",
    "#X_trio =X[np.unique(np.concatenate([df_rf.index[0:20],df.index[0:20],importances_dataframe.index[0:20]]))]"
   ]
  },
  {
   "cell_type": "code",
   "execution_count": null,
   "metadata": {},
   "outputs": [],
   "source": [
    "# XgBoost model\n",
    "dfull = xgb.DMatrix(X_duo_rebal, label=y_rebal)\n",
    "param = {'max_depth':10,'num_class':5, 'eta': 0.3, 'silent': 1, 'objective': 'multi:softmax'}\n",
    "num_round = 20\n",
    "\n",
    "# Training the model\n",
    "bst = xgb.train(param, dfull, num_round)"
   ]
  },
  {
   "cell_type": "code",
   "execution_count": null,
   "metadata": {},
   "outputs": [],
   "source": [
    "# Generate predictions\n",
    "dtest_to_pred = xgb.DMatrix(X_test_duo)\n",
    "output_rebal = pd.DataFrame(index=X_test_duo.index)\n",
    "output_rebal['sleep_stage'] = bst.predict(dtest_to_pred).astype('int')\n",
    "\n",
    "# Generate CSV to submit\n",
    "output_rebal.to_csv('Predictions/pred_rebal.csv', sep=';')"
   ]
  },
  {
   "cell_type": "markdown",
   "metadata": {},
   "source": [
    "## Comparing predictions"
   ]
  },
  {
   "cell_type": "markdown",
   "metadata": {},
   "source": [
    "#### XGboost training on full dataset"
   ]
  },
  {
   "cell_type": "code",
   "execution_count": null,
   "metadata": {},
   "outputs": [],
   "source": [
    "train_labels, counter_train = np.unique(output['sleep_stage'], return_counts=True)\n",
    "labels_names = np.array([sleeping_labels[label] for label in train_labels])\n",
    "colors = ['yellowgreen', 'gold', 'lightskyblue', 'lightcoral', \"mediumorchid\"]\n",
    "explode = (0.03, 0.03, 0.03, 0.03, 0.03)\n",
    "plt.pie(counter_train, labels=labels_names, colors=colors, explode=explode,\n",
    "        autopct='%1.1f%%', startangle=90)\n",
    "plt.title('XGboost training on full dataset')\n",
    "plt.axis('equal')\n",
    "plt.show()"
   ]
  },
  {
   "cell_type": "markdown",
   "metadata": {},
   "source": [
    "#### XGboost training on 80% of dataset"
   ]
  },
  {
   "cell_type": "code",
   "execution_count": null,
   "metadata": {},
   "outputs": [],
   "source": [
    "z = pd.read_csv('Predictions/pred4.csv', sep=';')\n",
    "\n",
    "train_labels, counter_train = np.unique(z['sleep_stage'], return_counts=True)\n",
    "labels_names = np.array([sleeping_labels[label] for label in train_labels])\n",
    "colors = ['yellowgreen', 'gold', 'lightskyblue', 'lightcoral', \"mediumorchid\"]\n",
    "explode = (0.03, 0.03, 0.03, 0.03, 0.03)\n",
    "plt.pie(counter_train, labels=labels_names, colors=colors, explode=explode,\n",
    "        autopct='%1.1f%%', startangle=90)\n",
    "plt.title('XGboost training on 80% of dataset')\n",
    "plt.axis('equal')\n",
    "plt.show()"
   ]
  },
  {
   "cell_type": "markdown",
   "metadata": {},
   "source": [
    "#### XGboost rebalanced training on full dataset"
   ]
  },
  {
   "cell_type": "code",
   "execution_count": null,
   "metadata": {},
   "outputs": [],
   "source": [
    "z = pd.read_csv('Predictions/pred_rebal.csv', sep=';')\n",
    "\n",
    "train_labels, counter_train = np.unique(z['sleep_stage'], return_counts=True)\n",
    "labels_names = np.array([sleeping_labels[label] for label in train_labels])\n",
    "colors = ['yellowgreen', 'gold', 'lightskyblue', 'lightcoral', \"mediumorchid\"]\n",
    "explode = (0.03, 0.03, 0.03, 0.03, 0.03)\n",
    "plt.pie(counter_train, labels=labels_names, colors=colors, explode=explode,\n",
    "        autopct='%1.1f%%', startangle=90)\n",
    "plt.title('XGboost rebalanced training on full dataset')\n",
    "plt.axis('equal')\n",
    "plt.show()"
   ]
  },
  {
   "cell_type": "markdown",
   "metadata": {},
   "source": [
    "# New Features"
   ]
  },
  {
   "cell_type": "markdown",
   "metadata": {},
   "source": [
    "In this part, we have created new features to rebalance the original distribution of the sleep stages. To do so, we added a normal noise to some of the features from class 0,1 and 3 (the ones that are under represented in the original dataset). \n",
    "\n",
    "We are adding in total 3000 rows for class 0, 4000 for class 1 and 2000 for class 3\n"
   ]
  },
  {
   "cell_type": "code",
   "execution_count": 249,
   "metadata": {},
   "outputs": [],
   "source": [
    "driss_feat_new_0 = pd.read_csv('driss_features_00.csv')\n",
    "driss_feat_new_1 = pd.read_csv('driss_features_11.csv')\n",
    "driss_feat_new_3 = pd.read_csv('driss_features_33.csv')\n",
    "\n",
    "mike_feat_new_0 = pd.read_excel('new_feat_01.xlsx')\n",
    "mike_feat_new_0['y'] = 0\n",
    "\n",
    "mike_feat_new_1 = pd.read_excel('new_feat_11.xlsx')\n",
    "mike_feat_new_1['y'] = 1\n",
    "\n",
    "mike_feat_new_3 = pd.read_excel('new_feat_31.xlsx')\n",
    "mike_feat_new_3['y'] = 3"
   ]
  },
  {
   "cell_type": "code",
   "execution_count": 250,
   "metadata": {},
   "outputs": [],
   "source": [
    "driss_feat_new = driss_feat_new_0.append(driss_feat_new_1).append(driss_feat_new_3).reset_index(drop=True)\n",
    "driss_feat_new = driss_feat_new.drop(driss_feat_new.columns[0:3],axis=1)\n",
    "\n",
    "mike_feat_new = mike_feat_new_0.append(mike_feat_new_1).append(mike_feat_new_3).reset_index(drop=True)\n",
    "#mike_feat_new = mike_feat_new.drop(mike_feat_new.columns[0],axis=1)\n",
    "\n",
    "mike_feat_new.to_csv('train_data/mike_train_new.csv')\n",
    "driss_feat_new.to_csv('train_data/driss_train_new.csv')"
   ]
  },
  {
   "cell_type": "code",
   "execution_count": 8,
   "metadata": {},
   "outputs": [
    {
     "name": "stdout",
     "output_type": "stream",
     "text": [
      "Number of features: 429\n"
     ]
    }
   ],
   "source": [
    "# Merging features\n",
    "mike_feat = pd.read_excel('train_data/mike_train_features_all.xlsx')\n",
    "driss_feat = pd.read_csv('train_data/driss_train_features_all.csv', sep=',')\n",
    "\n",
    "all_train_features = pd.concat([driss_feat, mike_feat], axis=1, join_axes=[mike_feat.index])\n",
    "print(\"Number of features:\", all_train_features.shape[1])"
   ]
  },
  {
   "cell_type": "code",
   "execution_count": 291,
   "metadata": {},
   "outputs": [],
   "source": [
    "# Merging features\n",
    "mike_feat = pd.read_excel('train_data/mike_train_features_all.xlsx')\n",
    "driss_feat = pd.read_csv('train_data/driss_train_features_all.csv', sep=',')\n",
    "\n",
    "all_train_features = pd.concat([driss_feat, mike_feat], axis=1, join_axes=[mike_feat.index])\n",
    "all_train_features['y'] = Y_train\n",
    "\n",
    "\n",
    "mike_feat_new = pd.read_csv('train_data/mike_train_new.csv')\n",
    "driss_feat_new = pd.read_csv('train_data/driss_train_new.csv')\n",
    "\n",
    "new_col = driss_feat.columns.values[0:60]\n",
    "anc_col = driss_feat_new.columns.values[1:61]\n",
    "\n",
    "for i in range(len(anc_col)):\n",
    "    driss_feat_new = driss_feat_new.rename(columns ={anc_col[i]:new_col[i]})\n",
    "\n",
    "all_train_features_new = pd.concat([driss_feat_new, mike_feat_new.drop('y',axis=1)], axis=1, join_axes=[mike_feat_new.index])\n",
    "all_train_features_new = all_train_features_new.drop(all_train_features_new.columns[0],axis=1)\n",
    "\n",
    "all_train_full = all_train_features.append(all_train_features_new).reset_index(drop=True)\n"
   ]
  },
  {
   "cell_type": "markdown",
   "metadata": {},
   "source": [
    "### Trying Xgboost Classifier"
   ]
  },
  {
   "cell_type": "code",
   "execution_count": 318,
   "metadata": {},
   "outputs": [],
   "source": [
    "# Resampling the dataframe \n",
    "\n",
    "sample_train = all_train_full.sample(len(all_train_full)).reset_index(drop=True)\n",
    "X = sample_train.drop('y',axis=1)\n",
    "X = X.reindex(sorted(X.columns), axis=1)\n",
    "y = sample_train['y']\n",
    "\n",
    "\n",
    "dtrain = xgb.DMatrix(X, label=y)\n",
    "dtest = xgb.DMatrix(feat_test_all.reindex(sorted(feat_test_all.columns), axis=1))\n",
    "\n",
    "param = {'max_depth':8,'num_class':5,'silent': 1, 'objective': 'multi:softmax'}\n",
    "num_round = 100\n",
    "bst = xgb.train(param, dtrain, num_round)"
   ]
  },
  {
   "cell_type": "code",
   "execution_count": 319,
   "metadata": {},
   "outputs": [],
   "source": [
    "dtest = xgb.DMatrix(feat_test_all.reindex(sorted(feat_test_all.columns), axis=1))\n",
    "output = pd.DataFrame(index=feat_test_all.index)\n",
    "output['id'] = output.index\n",
    "output['sleep_stage'] = bst.predict(dtest).astype('int')\n",
    "\n",
    "output.to_csv('Predictions/testo.csv',sep=',',index=False)"
   ]
  },
  {
   "cell_type": "markdown",
   "metadata": {},
   "source": [
    "#### Generating the prediction file"
   ]
  },
  {
   "cell_type": "code",
   "execution_count": 106,
   "metadata": {},
   "outputs": [],
   "source": [
    "output = pd.DataFrame(index=feat_test_all.index)\n",
    "output['id'] = output.index\n",
    "output['sleep_stage'] = bst.predict(dtest).astype('int')\n",
    "\n",
    "output.to_csv('Predictions/xgboost_full_feat_500.csv',sep=',',index=False)"
   ]
  }
 ],
 "metadata": {
  "kernelspec": {
   "display_name": "Python 3",
   "language": "python",
   "name": "python3"
  },
  "language_info": {
   "codemirror_mode": {
    "name": "ipython",
    "version": 3
   },
   "file_extension": ".py",
   "mimetype": "text/x-python",
   "name": "python",
   "nbconvert_exporter": "python",
   "pygments_lexer": "ipython3",
   "version": "3.7.4"
  }
 },
 "nbformat": 4,
 "nbformat_minor": 2
}
